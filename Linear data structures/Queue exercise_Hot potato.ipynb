{
 "cells": [
  {
   "cell_type": "markdown",
   "metadata": {},
   "source": [
    "[hot potato introductions](http://interactivepython.org/runestone/static/pythonds/BasicDS/SimulationHotPotato.html)"
   ]
  },
  {
   "cell_type": "code",
   "execution_count": 8,
   "metadata": {},
   "outputs": [],
   "source": [
    "import random"
   ]
  },
  {
   "cell_type": "code",
   "execution_count": 1,
   "metadata": {},
   "outputs": [],
   "source": [
    "class Queue():\n",
    "    \n",
    "    def __init__(self):\n",
    "        self.queue = []\n",
    "        \n",
    "    def enqueue(self, item):\n",
    "        self.queue.append(item)\n",
    "        \n",
    "    def dequeue(self):\n",
    "        if not self.is_empty():\n",
    "            return self.queue.pop(0)\n",
    "        else:\n",
    "            print(\"no element to dequeue!!\")\n",
    "    \n",
    "    def is_empty(self):\n",
    "        return True if len(self.queue)==0 else False\n",
    "    \n",
    "    def size(self):\n",
    "        return len(self.queue)"
   ]
  },
  {
   "cell_type": "code",
   "execution_count": 99,
   "metadata": {},
   "outputs": [],
   "source": [
    "class HotPotato():\n",
    "    \"\"\"\n",
    "    this class is capable of simulating game Hot Potato, \n",
    "    as well as finding the best slot for Josephus Survival.\n",
    "    \"\"\"\n",
    "    def __init__(self,people_names_list,number_to_kill_each_round=None,is_print = True):\n",
    "        \"\"\"\n",
    "        inputs\n",
    "        ----------\n",
    "        people_names_list: \n",
    "            the ordered people's names in the game. the first person in the list hold the\n",
    "            hot potato at the beginning and the potato is passed to the second person in the list and \n",
    "            so on.\n",
    "        number_to_kill_each_round: \n",
    "            list, the numbers/indeces of people to kill/kick out at each round.\n",
    "            If not being specified, a random process is conducted.\n",
    "        is_print:\n",
    "            bool, whether to print the result of each round.\n",
    "            \n",
    "        \"\"\"\n",
    "        q = Queue()\n",
    "        for person in people_names_list:\n",
    "            q.enqueue(person)\n",
    "        self.people_queue = q\n",
    "        self.people_kicked_each_run = []\n",
    "        self.number_to_kill_each_round = number_to_kill_each_round\n",
    "        self.is_print = is_print\n",
    "        \n",
    "    def play_one_round(self,num=None):\n",
    "        if num is None:\n",
    "            num = self._generate_num()\n",
    "        \n",
    "        # simulate the process of passing hot potato\n",
    "        for i in range(num-1):\n",
    "            transfer = self.people_queue.dequeue()\n",
    "            self.people_queue.enqueue(transfer)\n",
    "        kicked = self.people_queue.dequeue()\n",
    "        \n",
    "        # record the person's name who got kicked out at each run.\n",
    "        self.people_kicked_each_run.append(kicked)\n",
    "        \n",
    "        if self.is_print:\n",
    "            print(\"person got kicked out of the game this round: \",kicked)\n",
    "            print(\"people still in the game:\",self.people_queue.queue,'\\n')\n",
    "    \n",
    "    def play_full_game(self):\n",
    "        while self.people_queue.size()>1:\n",
    "            if self.number_to_kill_each_round is not None:\n",
    "                number = self.number_to_kill_each_round[0]\n",
    "                self.number_to_kill_each_round = self.number_to_kill_each_round[1:]\n",
    "            else:\n",
    "                number = None\n",
    "            self.play_one_round(number)\n",
    "        winner = self.people_queue.queue[0]\n",
    "        print(\"Winner is: \",winner)\n",
    "        return winner\n",
    "    \n",
    "    def _generate_num(self):\n",
    "        \"\"\"\n",
    "        output: a random integer number that is used to determine which one to be kicked out of /\n",
    "            the game.\n",
    "        \"\"\"\n",
    "        return random.randint(1,10000)\n",
    "    "
   ]
  },
  {
   "cell_type": "code",
   "execution_count": 116,
   "metadata": {},
   "outputs": [],
   "source": [
    "game = HotPotato(list(range(1,9)),\n",
    "                 number_to_kill_each_round=[7 for i in range(8-1)])"
   ]
  },
  {
   "cell_type": "code",
   "execution_count": 117,
   "metadata": {},
   "outputs": [
    {
     "name": "stdout",
     "output_type": "stream",
     "text": [
      "person got kicked out of the game this round:  7\n",
      "people still in the game: [8, 1, 2, 3, 4, 5, 6] \n",
      "\n",
      "person got kicked out of the game this round:  6\n",
      "people still in the game: [8, 1, 2, 3, 4, 5] \n",
      "\n",
      "person got kicked out of the game this round:  8\n",
      "people still in the game: [1, 2, 3, 4, 5] \n",
      "\n",
      "person got kicked out of the game this round:  2\n",
      "people still in the game: [3, 4, 5, 1] \n",
      "\n",
      "person got kicked out of the game this round:  5\n",
      "people still in the game: [1, 3, 4] \n",
      "\n",
      "person got kicked out of the game this round:  1\n",
      "people still in the game: [3, 4] \n",
      "\n",
      "person got kicked out of the game this round:  3\n",
      "people still in the game: [4] \n",
      "\n",
      "Winner is:  4\n"
     ]
    },
    {
     "data": {
      "text/plain": [
       "4"
      ]
     },
     "execution_count": 117,
     "metadata": {},
     "output_type": "execute_result"
    }
   ],
   "source": [
    "game.play_full_game()"
   ]
  },
  {
   "cell_type": "code",
   "execution_count": null,
   "metadata": {},
   "outputs": [],
   "source": []
  }
 ],
 "metadata": {
  "kernelspec": {
   "display_name": "Python 3",
   "language": "python",
   "name": "python3"
  },
  "language_info": {
   "codemirror_mode": {
    "name": "ipython",
    "version": 3
   },
   "file_extension": ".py",
   "mimetype": "text/x-python",
   "name": "python",
   "nbconvert_exporter": "python",
   "pygments_lexer": "ipython3",
   "version": "3.6.5"
  }
 },
 "nbformat": 4,
 "nbformat_minor": 2
}
