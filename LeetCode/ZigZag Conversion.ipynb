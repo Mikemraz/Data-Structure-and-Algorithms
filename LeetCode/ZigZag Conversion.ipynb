{
 "cells": [
  {
   "cell_type": "markdown",
   "metadata": {},
   "source": [
    "[the quiz](https://leetcode.com/problems/zigzag-conversion/)  \n",
    "The string \"PAYPALISHIRING\" is written in a zigzag pattern on a given number of rows like this: (you may want to display this pattern in a fixed font for better legibility).  \n",
    "And then read line by line: \"PAHNAPLSIIGYIR\"\n",
    "Write the code that will take a string and make this conversion given a number of rows"
   ]
  },
  {
   "cell_type": "code",
   "execution_count": 16,
   "metadata": {},
   "outputs": [],
   "source": [
    "class Node():\n",
    "    def __init__(self,items=''):\n",
    "        self.items = items\n",
    "        self.next = None\n",
    "        self.previous = None"
   ]
  },
  {
   "cell_type": "code",
   "execution_count": 19,
   "metadata": {},
   "outputs": [],
   "source": [
    "def generate_double_ll(head,rows_num):\n",
    "    node_now = Node()\n",
    "    head.next = node_now\n",
    "    node_previous = node_now\n",
    "    for i in range(rows_num-1):\n",
    "        node_now = Node()\n",
    "        node_previous.next = node_now\n",
    "        node_now.previous = node_previous\n",
    "        node_previous = node_now\n",
    "    #tail = Node(None)\n",
    "    #node_previous.next = tail\n",
    "    \n",
    "    "
   ]
  },
  {
   "cell_type": "code",
   "execution_count": 21,
   "metadata": {},
   "outputs": [],
   "source": [
    "def combine_char(head):\n",
    "    node = head.next\n",
    "    output = ''\n",
    "    while node != None:\n",
    "        output += node.items\n",
    "        node = node.next\n",
    "    return output"
   ]
  },
  {
   "cell_type": "code",
   "execution_count": 41,
   "metadata": {},
   "outputs": [],
   "source": [
    "def zigzag_conversion(string,rows_num):\n",
    "    string = iter(string)\n",
    "    head = Node(None)\n",
    "    generate_double_ll(head,rows_num)\n",
    "    previous_node = None\n",
    "    node_now = head.next\n",
    "    flag = 'down'\n",
    "    while True:\n",
    "        try:\n",
    "            char = next(string)\n",
    "        except StopIteration:\n",
    "            break\n",
    "        node_now.items += char\n",
    "        previous_node = node_now\n",
    "        if flag=='down':\n",
    "            node_now = node_now.next\n",
    "        else:\n",
    "            node_now = node_now.previous\n",
    "        if node_now.next == None:\n",
    "            flag = 'up'\n",
    "        if node_now.previous == None:\n",
    "            flag = 'down' \n",
    "    return combine_char(head)"
   ]
  },
  {
   "cell_type": "code",
   "execution_count": 45,
   "metadata": {},
   "outputs": [
    {
     "data": {
      "text/plain": [
       "'aeibdfhjcgk'"
      ]
     },
     "execution_count": 45,
     "metadata": {},
     "output_type": "execute_result"
    }
   ],
   "source": [
    "zigzag_conversion('abcdefghijk',3)"
   ]
  },
  {
   "cell_type": "code",
   "execution_count": null,
   "metadata": {},
   "outputs": [],
   "source": []
  }
 ],
 "metadata": {
  "kernelspec": {
   "display_name": "Python 3",
   "language": "python",
   "name": "python3"
  },
  "language_info": {
   "codemirror_mode": {
    "name": "ipython",
    "version": 3
   },
   "file_extension": ".py",
   "mimetype": "text/x-python",
   "name": "python",
   "nbconvert_exporter": "python",
   "pygments_lexer": "ipython3",
   "version": "3.6.5"
  }
 },
 "nbformat": 4,
 "nbformat_minor": 2
}
