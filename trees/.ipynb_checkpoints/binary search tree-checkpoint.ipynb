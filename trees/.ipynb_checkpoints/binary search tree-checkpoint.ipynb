{
 "cells": [
  {
   "cell_type": "code",
   "execution_count": 1,
   "metadata": {},
   "outputs": [],
   "source": [
    "class Node():\n",
    "    def __init__(self, data=None):\n",
    "        self.data = data\n",
    "        self.left = None\n",
    "        self.right = None\n",
    "        \n",
    "    def set_children_node(self,left=None,right=None):\n",
    "        self.left = left\n",
    "        self.right = right"
   ]
  },
  {
   "cell_type": "code",
   "execution_count": 2,
   "metadata": {},
   "outputs": [],
   "source": [
    "class BinarySearchTree():\n",
    "    def __init__(self, root=None):\n",
    "        self.root = root\n",
    "        self.results = []\n",
    "        \n",
    "    def add_node(self, node):\n",
    "        if node.left!=None or node.right!=None:\n",
    "            print('this node has children, cannot add node with children')\n",
    "            return\n",
    "        if node.data == None:\n",
    "            print('this node has no data, please assign value to it')\n",
    "            return \n",
    "        node_to_compare = root\n",
    "        while node_to_compare != None:\n",
    "            if node.data <= node_to_compare.data:\n",
    "                if node_to_compare.left == None:\n",
    "                    node_to_compare.left = node\n",
    "                    return\n",
    "                node_to_compare = node_to_compare.left\n",
    "            else:\n",
    "                if node_to_compare.right == None:\n",
    "                    node_to_compare.right = node\n",
    "                    return\n",
    "                node_to_compare = node_to_compare.right\n",
    "    \n",
    "    def preorder_tranverse(self):\n",
    "        self.results = []\n",
    "        self.preorder(self.root)\n",
    "        return self.results\n",
    "    \n",
    "    def inorder_tranverse(self):\n",
    "        self.results = []\n",
    "        self.inorder(self.root)\n",
    "        return self.results\n",
    "    \n",
    "    def postorder_tranverse(self):\n",
    "        self.results = []\n",
    "        self.postorder(self.root)\n",
    "        return self.results\n",
    "        \n",
    "    def preorder(self,node):\n",
    "        if node==None:\n",
    "            return  \n",
    "        self.results.append(node.data)\n",
    "        self.preorder(node.left)\n",
    "        self.preorder(node.right)\n",
    "    \n",
    "    def inorder(self,node):\n",
    "        if node==None:\n",
    "            return  \n",
    "        self.inorder(node.left)\n",
    "        self.results.append(node.data)\n",
    "        self.inorder(node.right)\n",
    "        \n",
    "    def postorder(self,node):\n",
    "        if node==None:\n",
    "            return  \n",
    "        self.postorder(node.left)\n",
    "        self.postorder(node.right)\n",
    "        self.results.append(node.data)\n",
    "        \n",
    "            \n",
    "        "
   ]
  },
  {
   "cell_type": "code",
   "execution_count": 6,
   "metadata": {},
   "outputs": [],
   "source": [
    "root = Node(5)\n",
    "binary_search_tree = BinarySearchTree(root)"
   ]
  },
  {
   "cell_type": "code",
   "execution_count": 7,
   "metadata": {},
   "outputs": [],
   "source": [
    "binary_search_tree.add_node(Node(1))\n",
    "binary_search_tree.add_node(Node(54))\n",
    "binary_search_tree.add_node(Node(1))\n",
    "binary_search_tree.add_node(Node(22))\n",
    "binary_search_tree.add_node(Node(6))\n",
    "binary_search_tree.add_node(Node(7))\n",
    "binary_search_tree.add_node(Node(3))"
   ]
  },
  {
   "cell_type": "code",
   "execution_count": 8,
   "metadata": {},
   "outputs": [
    {
     "data": {
      "text/plain": [
       "[5, 1, 1, 3, 54, 22, 6, 7]"
      ]
     },
     "execution_count": 8,
     "metadata": {},
     "output_type": "execute_result"
    }
   ],
   "source": [
    "binary_search_tree.preorder_tranverse()"
   ]
  },
  {
   "cell_type": "code",
   "execution_count": null,
   "metadata": {},
   "outputs": [],
   "source": []
  }
 ],
 "metadata": {
  "kernelspec": {
   "display_name": "Python 3",
   "language": "python",
   "name": "python3"
  },
  "language_info": {
   "codemirror_mode": {
    "name": "ipython",
    "version": 3
   },
   "file_extension": ".py",
   "mimetype": "text/x-python",
   "name": "python",
   "nbconvert_exporter": "python",
   "pygments_lexer": "ipython3",
   "version": "3.7.1"
  }
 },
 "nbformat": 4,
 "nbformat_minor": 2
}
