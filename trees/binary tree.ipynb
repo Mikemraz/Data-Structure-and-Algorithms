{
 "cells": [
  {
   "cell_type": "code",
   "execution_count": null,
   "metadata": {},
   "outputs": [],
   "source": []
  },
  {
   "cell_type": "code",
   "execution_count": 42,
   "metadata": {},
   "outputs": [],
   "source": [
    "class Node():\n",
    "    def __init__(self,data=None):\n",
    "        self.data = data\n",
    "        self.left = None\n",
    "        self.right = None\n",
    "        \n",
    "    def set_children_node(self,left=None,right=None):\n",
    "        self.left = left\n",
    "        self.right = right\n",
    "        \n",
    "\n",
    "class Tree():\n",
    "    def __init__(self,root=None):\n",
    "        self.root=root\n",
    "       \n",
    "    def preorder_tranverse(self,node):\n",
    "        if node!=None:\n",
    "            print(node.data)\n",
    "            self.inorder_tranverse(node.left)\n",
    "            self.inorder_tranverse(node.right)\n",
    "        else:\n",
    "            return None\n",
    "    \n",
    "    def inorder_tranverse(self,node):\n",
    "        if node!=None:\n",
    "            self.inorder_tranverse(node.left)\n",
    "            print(node.data)\n",
    "            self.inorder_tranverse(node.right)\n",
    "        else:\n",
    "            return None\n",
    "        \n",
    "    def postorder_tranverse(self,node):\n",
    "        if node!=None:\n",
    "            self.inorder_tranverse(node.left)\n",
    "            self.inorder_tranverse(node.right)\n",
    "            print(node.data)\n",
    "        else:\n",
    "            return None\n",
    "        \n",
    "        "
   ]
  },
  {
   "cell_type": "code",
   "execution_count": 43,
   "metadata": {},
   "outputs": [],
   "source": [
    "node_root = Node(1)\n",
    "node_2 = Node(2)\n",
    "node_3 = Node(3)\n",
    "node_4 = Node(4)\n",
    "node_5 = Node(5)\n",
    "node_6 = Node(6)\n",
    "node_7 = Node(7)\n",
    "node_root.set_children_node(node_2,node_3)\n",
    "node_2.set_children_node(node_4,node_5)\n",
    "node_3.set_children_node(node_6,node_7)"
   ]
  },
  {
   "cell_type": "code",
   "execution_count": 44,
   "metadata": {},
   "outputs": [],
   "source": [
    "tree = Tree(node_root)"
   ]
  },
  {
   "cell_type": "code",
   "execution_count": 45,
   "metadata": {},
   "outputs": [
    {
     "name": "stdout",
     "output_type": "stream",
     "text": [
      "1\n",
      "4\n",
      "2\n",
      "5\n",
      "6\n",
      "3\n",
      "7\n"
     ]
    }
   ],
   "source": [
    "tree.preorder_tranverse(tree.root)"
   ]
  },
  {
   "cell_type": "code",
   "execution_count": 46,
   "metadata": {},
   "outputs": [
    {
     "name": "stdout",
     "output_type": "stream",
     "text": [
      "4\n",
      "2\n",
      "5\n",
      "1\n",
      "6\n",
      "3\n",
      "7\n"
     ]
    }
   ],
   "source": [
    "tree.inorder_tranverse(tree.root)"
   ]
  },
  {
   "cell_type": "code",
   "execution_count": 47,
   "metadata": {},
   "outputs": [
    {
     "name": "stdout",
     "output_type": "stream",
     "text": [
      "4\n",
      "2\n",
      "5\n",
      "6\n",
      "3\n",
      "7\n",
      "1\n"
     ]
    }
   ],
   "source": [
    "tree.postorder_tranverse(tree.root)"
   ]
  }
 ],
 "metadata": {
  "kernelspec": {
   "display_name": "Python 3",
   "language": "python",
   "name": "python3"
  },
  "language_info": {
   "codemirror_mode": {
    "name": "ipython",
    "version": 3
   },
   "file_extension": ".py",
   "mimetype": "text/x-python",
   "name": "python",
   "nbconvert_exporter": "python",
   "pygments_lexer": "ipython3",
   "version": "3.6.5"
  }
 },
 "nbformat": 4,
 "nbformat_minor": 2
}
