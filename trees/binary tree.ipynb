{
 "cells": [
  {
   "cell_type": "code",
   "execution_count": 1,
   "metadata": {},
   "outputs": [],
   "source": [
    "class Node():\n",
    "    def __init__(self,data=None):\n",
    "        self.data = data\n",
    "        self.left = None\n",
    "        self.right = None\n",
    "        \n",
    "    def set_children_node(self,left=None,right=None):\n",
    "        self.left = left\n",
    "        self.right = right"
   ]
  },
  {
   "cell_type": "code",
   "execution_count": 46,
   "metadata": {},
   "outputs": [],
   "source": [
    "# traverse in a recursive way\n",
    "class Tree():\n",
    "    \n",
    "    def preorder_tranverse(self,node):\n",
    "        self.results = []\n",
    "        self.preorder(node)\n",
    "        return self.results\n",
    "    \n",
    "    def inorder_tranverse(self,node):\n",
    "        self.results = []\n",
    "        self.inorder(node)\n",
    "        return self.results\n",
    "    \n",
    "    def postorder_tranverse(self,node):\n",
    "        self.results = []\n",
    "        self.postorder(node)\n",
    "        return self.results\n",
    "        \n",
    "    def preorder(self,node):\n",
    "        if node==None:\n",
    "            return  \n",
    "        self.results.append(node.data)\n",
    "        self.preorder(node.left)\n",
    "        self.preorder(node.right)\n",
    "    \n",
    "    def inorder(self,node):\n",
    "        if node==None:\n",
    "            return  \n",
    "        self.inorder(node.left)\n",
    "        self.results.append(node.data)\n",
    "        self.inorder(node.right)\n",
    "        \n",
    "    def postorder(self,node):\n",
    "        if node==None:\n",
    "            return  \n",
    "        self.postorder(node.left)\n",
    "        self.postorder(node.right)\n",
    "        self.results.append(node.data)"
   ]
  },
  {
   "cell_type": "code",
   "execution_count": 2,
   "metadata": {},
   "outputs": [],
   "source": [
    "root = Node(1)\n",
    "node_2 = Node(2)\n",
    "node_3 = Node(3)\n",
    "node_4 = Node(4)\n",
    "node_5 = Node(5)\n",
    "node_6 = Node(6)\n",
    "node_7 = Node(7)\n",
    "root.set_children_node(node_2,node_3)\n",
    "node_2.set_children_node(node_4,node_5)\n",
    "node_3.set_children_node(node_6,node_7)"
   ]
  },
  {
   "cell_type": "code",
   "execution_count": 48,
   "metadata": {},
   "outputs": [],
   "source": [
    "tree = Tree()"
   ]
  },
  {
   "cell_type": "code",
   "execution_count": 49,
   "metadata": {},
   "outputs": [
    {
     "data": {
      "text/plain": [
       "[1, 2, 4, 5, 3, 6, 7]"
      ]
     },
     "execution_count": 49,
     "metadata": {},
     "output_type": "execute_result"
    }
   ],
   "source": [
    "tree.preorder_tranverse(root)"
   ]
  },
  {
   "cell_type": "code",
   "execution_count": 50,
   "metadata": {},
   "outputs": [
    {
     "data": {
      "text/plain": [
       "[4, 2, 5, 1, 6, 3, 7]"
      ]
     },
     "execution_count": 50,
     "metadata": {},
     "output_type": "execute_result"
    }
   ],
   "source": [
    "tree.inorder_tranverse(root)"
   ]
  },
  {
   "cell_type": "code",
   "execution_count": 51,
   "metadata": {},
   "outputs": [
    {
     "data": {
      "text/plain": [
       "[4, 5, 2, 6, 7, 3, 1]"
      ]
     },
     "execution_count": 51,
     "metadata": {},
     "output_type": "execute_result"
    }
   ],
   "source": [
    "tree.postorder_tranverse(root)"
   ]
  },
  {
   "cell_type": "code",
   "execution_count": 9,
   "metadata": {},
   "outputs": [],
   "source": [
    "# use iteration to traverse a tree instead\n",
    "class stack_tree:\n",
    "    def preorder_iterate(self, root):\n",
    "        if root is None:\n",
    "            return []\n",
    "        stack = [root]\n",
    "        results = []\n",
    "        while stack:\n",
    "            node_to_pop = stack.pop()\n",
    "            results.append(node_to_pop.data)\n",
    "            if node_to_pop.right!=None:\n",
    "                stack.append(node_to_pop.right)\n",
    "            if node_to_pop.left!=None:\n",
    "                stack.append(node_to_pop.left) \n",
    "        return results\n",
    "            \n",
    "    def inorder_iterate(self, root):\n",
    "        if root is None:\n",
    "            return []\n",
    "        \n",
    "        dummy = Node(0)\n",
    "        dummy.right = root\n",
    "        stack = [dummy]\n",
    "        results = []\n",
    "        \n",
    "        while stack:\n",
    "            node = stack.pop()\n",
    "            if node.right:\n",
    "                node = node.right\n",
    "                while node:\n",
    "                    stack.append(node)\n",
    "                    node = node.left\n",
    "            if stack:\n",
    "                results.append(stack[-1].data)\n",
    "        return results\n",
    "            \n",
    "    def postorder_iterate(self, root):\n",
    "        if root is None:\n",
    "            return []\n",
    "        stack = [root]\n",
    "        results = []\n",
    "        while stack:\n",
    "            node_to_pop = stack.pop()\n",
    "            results.append(node_to_pop.data)\n",
    "            if node_to_pop.left!=None:\n",
    "                stack.append(node_to_pop.left) \n",
    "            if node_to_pop.right!=None:\n",
    "                stack.append(node_to_pop.right)\n",
    "        return results[::-1]\n",
    "        "
   ]
  },
  {
   "cell_type": "code",
   "execution_count": 10,
   "metadata": {},
   "outputs": [
    {
     "data": {
      "text/plain": [
       "[1, 2, 4, 5, 3, 6, 7]"
      ]
     },
     "execution_count": 10,
     "metadata": {},
     "output_type": "execute_result"
    }
   ],
   "source": [
    "tree = stack_tree()\n",
    "tree.preorder_iterate(root)"
   ]
  },
  {
   "cell_type": "code",
   "execution_count": 11,
   "metadata": {},
   "outputs": [
    {
     "data": {
      "text/plain": [
       "[4, 2, 5, 1, 6, 3, 7]"
      ]
     },
     "execution_count": 11,
     "metadata": {},
     "output_type": "execute_result"
    }
   ],
   "source": [
    "tree.inorder_iterate(root)"
   ]
  },
  {
   "cell_type": "code",
   "execution_count": 12,
   "metadata": {},
   "outputs": [
    {
     "data": {
      "text/plain": [
       "[4, 5, 2, 6, 7, 3, 1]"
      ]
     },
     "execution_count": 12,
     "metadata": {},
     "output_type": "execute_result"
    }
   ],
   "source": [
    "tree.postorder_iterate(root)"
   ]
  }
 ],
 "metadata": {
  "kernelspec": {
   "display_name": "Python 3",
   "language": "python",
   "name": "python3"
  },
  "language_info": {
   "codemirror_mode": {
    "name": "ipython",
    "version": 3
   },
   "file_extension": ".py",
   "mimetype": "text/x-python",
   "name": "python",
   "nbconvert_exporter": "python",
   "pygments_lexer": "ipython3",
   "version": "3.6.5"
  }
 },
 "nbformat": 4,
 "nbformat_minor": 2
}
