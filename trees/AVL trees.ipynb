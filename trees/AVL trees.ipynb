{
 "cells": [
  {
   "cell_type": "code",
   "execution_count": 2,
   "metadata": {},
   "outputs": [],
   "source": [
    "class Node():\n",
    "    def __init__(self, data=None):\n",
    "        self.data = data\n",
    "        self.left = None\n",
    "        self.right = None\n",
    "        self.depth = None\n",
    "        \n",
    "    def set_children_node(self,left=None,right=None):\n",
    "        self.left = left\n",
    "        self.right = right\n",
    "        \n",
    "    def set_children_depth(self):\n",
    "        if self.depth!=None:\n",
    "            if self.left!=None:\n",
    "                self.left.depth = self.depth + 1\n",
    "            if self.right!=None:\n",
    "                self.right.depth = self.depth + 1"
   ]
  },
  {
   "cell_type": "code",
   "execution_count": null,
   "metadata": {},
   "outputs": [],
   "source": [
    "class AVLTree:\n",
    "    def __init__(self, root=None):\n",
    "        self.root = root\n",
    "        if root!=None:\n",
    "            self.root.depth = 1\n",
    "        self.depth = None\n",
    "        \n",
    "    def get_depth(self):\n",
    "        depth = 1\n",
    "        node_cur = self.root\n",
    "        while node_cur!=None:\n",
    "    \n",
    "            \n",
    "    def add_node(self, node):\n",
    "        if node.left!=None or node.right!=None:\n",
    "            print('this node has children, cannot add node with children')\n",
    "            return\n",
    "        if node.data == None:\n",
    "            print('this node has no data, please assign value to it')\n",
    "            return \n",
    "        node_to_compare = self.root\n",
    "        while node_to_compare != None:\n",
    "            if node.data <= node_to_compare.data:\n",
    "                if node_to_compare.left == None:\n",
    "                    node_to_compare.left = node\n",
    "                    node_to_compare.left.set_children_depth()\n",
    "                    return\n",
    "                node_to_compare = node_to_compare.left\n",
    "            else:\n",
    "                if node_to_compare.right == None:\n",
    "                    node_to_compare.right = node\n",
    "                    node_to_compare.left.set_children_depth()\n",
    "                    return\n",
    "                node_to_compare = node_to_compare.right"
   ]
  }
 ],
 "metadata": {
  "kernelspec": {
   "display_name": "Python 3",
   "language": "python",
   "name": "python3"
  },
  "language_info": {
   "codemirror_mode": {
    "name": "ipython",
    "version": 3
   },
   "file_extension": ".py",
   "mimetype": "text/x-python",
   "name": "python",
   "nbconvert_exporter": "python",
   "pygments_lexer": "ipython3",
   "version": "3.7.1"
  }
 },
 "nbformat": 4,
 "nbformat_minor": 2
}
