{
 "cells": [
  {
   "cell_type": "markdown",
   "metadata": {},
   "source": [
    "Given two array, one is the same as the other one except order of elements and with one element missing. find the missing element."
   ]
  },
  {
   "cell_type": "markdown",
   "metadata": {},
   "source": [
    "1st solution: hash table(dictionary). O(n)"
   ]
  },
  {
   "cell_type": "code",
   "execution_count": 1,
   "metadata": {},
   "outputs": [],
   "source": [
    "def find_missing_element(array1,array2):\n",
    "    check = {}\n",
    "    for item in array1:\n",
    "        if item in check:\n",
    "            check[item] += 1\n",
    "        else:\n",
    "            check[item] = 1\n",
    "    for item in array2:\n",
    "        if item in check:\n",
    "            check[item] -= 1\n",
    "        else:\n",
    "            print(\"wrong with input\")\n",
    "    for idx,val in check.items():\n",
    "        if val==1:\n",
    "            print(\"the missing element is: \",idx)"
   ]
  },
  {
   "cell_type": "code",
   "execution_count": 3,
   "metadata": {},
   "outputs": [
    {
     "name": "stdout",
     "output_type": "stream",
     "text": [
      "the missing element is:  3\n"
     ]
    }
   ],
   "source": [
    "find_missing_element([1,2,3,3,3],[1,3,2,3])"
   ]
  },
  {
   "cell_type": "markdown",
   "metadata": {},
   "source": [
    "2nd solution: sort and compare. O(nlgn)"
   ]
  },
  {
   "cell_type": "markdown",
   "metadata": {},
   "source": [
    "3rd solution: Xor (Cont.)"
   ]
  },
  {
   "cell_type": "code",
   "execution_count": null,
   "metadata": {},
   "outputs": [],
   "source": []
  }
 ],
 "metadata": {
  "kernelspec": {
   "display_name": "Python 3",
   "language": "python",
   "name": "python3"
  },
  "language_info": {
   "codemirror_mode": {
    "name": "ipython",
    "version": 3
   },
   "file_extension": ".py",
   "mimetype": "text/x-python",
   "name": "python",
   "nbconvert_exporter": "python",
   "pygments_lexer": "ipython3",
   "version": "3.6.5"
  }
 },
 "nbformat": 4,
 "nbformat_minor": 2
}
