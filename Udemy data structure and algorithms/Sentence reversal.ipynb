{
 "cells": [
  {
   "cell_type": "markdown",
   "metadata": {},
   "source": [
    "Reverse all the words given a sentence."
   ]
  },
  {
   "cell_type": "code",
   "execution_count": 1,
   "metadata": {},
   "outputs": [],
   "source": [
    "# this is cheating in a interview\n",
    "def reverse_sentence(sentence):\n",
    "    words = sentence.split(' ')\n",
    "    words_reverse = words[::-1]\n",
    "    output = ' '.join(words_reverse)\n",
    "    return output"
   ]
  },
  {
   "cell_type": "code",
   "execution_count": 3,
   "metadata": {},
   "outputs": [
    {
     "data": {
      "text/plain": [
       "'you? are old how hi,  '"
      ]
     },
     "execution_count": 3,
     "metadata": {},
     "output_type": "execute_result"
    }
   ],
   "source": [
    "reverse_sentence('  hi, how old are you?')"
   ]
  },
  {
   "cell_type": "code",
   "execution_count": 10,
   "metadata": {},
   "outputs": [],
   "source": [
    "# now let's begin \n",
    "# there is another implementation by while loop by Udemy. Try that!\n",
    "def reverse_sentence2(sentence):\n",
    "    s_len = len(sentence)\n",
    "    words = []\n",
    "    word = ''\n",
    "    for index, char in enumerate(sentence):\n",
    "        if char==' ' and word=='':\n",
    "            continue\n",
    "        elif (char==' ' or index==s_len-1) and word!='':\n",
    "            words.append(word)\n",
    "            word = ''\n",
    "        else:\n",
    "            # char!=' '\n",
    "            word += char\n",
    "    \n",
    "    print(words)\n",
    "    words_reverse = []\n",
    "    for i in range(len(words)):\n",
    "        words_reverse.append(words.pop())\n",
    "        \n",
    "    output = words_reverse[0]\n",
    "    print(words_reverse)\n",
    "    for word in words_reverse[1:]:\n",
    "        output = output + ' ' + word\n",
    "        \n",
    "    return output\n",
    "        \n",
    "        \n",
    "            "
   ]
  },
  {
   "cell_type": "code",
   "execution_count": 11,
   "metadata": {},
   "outputs": [
    {
     "name": "stdout",
     "output_type": "stream",
     "text": [
      "['hi,', 'how', 'old', 'are', 'you']\n",
      "['you', 'are', 'old', 'how', 'hi,']\n"
     ]
    },
    {
     "data": {
      "text/plain": [
       "'you are old how hi,'"
      ]
     },
     "execution_count": 11,
     "metadata": {},
     "output_type": "execute_result"
    }
   ],
   "source": [
    "reverse_sentence2('  hi, how old are you?')"
   ]
  },
  {
   "cell_type": "code",
   "execution_count": null,
   "metadata": {},
   "outputs": [],
   "source": []
  }
 ],
 "metadata": {
  "kernelspec": {
   "display_name": "Python 3",
   "language": "python",
   "name": "python3"
  },
  "language_info": {
   "codemirror_mode": {
    "name": "ipython",
    "version": 3
   },
   "file_extension": ".py",
   "mimetype": "text/x-python",
   "name": "python",
   "nbconvert_exporter": "python",
   "pygments_lexer": "ipython3",
   "version": "3.6.5"
  }
 },
 "nbformat": 4,
 "nbformat_minor": 2
}
