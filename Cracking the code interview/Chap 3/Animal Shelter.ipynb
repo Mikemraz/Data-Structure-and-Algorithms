{
 "cells": [
  {
   "cell_type": "markdown",
   "metadata": {},
   "source": [
    "Animal Shelter: An animal shelter, which holds only dogs and cats, operates on a strictly\"first in, first\n",
    "out\" basis. People must adopt either the \"oldest\" (based on arrival time) of all animals at the shelter,\n",
    "or they can select whether they would prefer a dog or a cat (and will receive the oldest animal of\n",
    "that type). They cannot select which specific animal they would like. Create the data structures to\n",
    "maintain this system and implement operations such as enqueue, dequeueAny, dequeueDog,\n",
    "and dequeueCat. You may use the built-in Linked list data structure."
   ]
  },
  {
   "cell_type": "code",
   "execution_count": 1,
   "metadata": {},
   "outputs": [],
   "source": [
    "# we can build two queues for dogs and cats respectively."
   ]
  },
  {
   "cell_type": "code",
   "execution_count": 186,
   "metadata": {},
   "outputs": [],
   "source": [
    "class Queue:\n",
    "    def __init__(self):\n",
    "        self.data = []\n",
    "        \n",
    "    def pop_out(self):\n",
    "        # remove the first element in the list\n",
    "        if self.is_empty():\n",
    "            print('nothing to pop out')\n",
    "        else:\n",
    "             print(self.data.pop(0))\n",
    "        return None\n",
    "            \n",
    "    def peek(self):\n",
    "        # return the first element in the list\n",
    "        if self.is_empty()==False:\n",
    "            return self.data[0]\n",
    "        else:\n",
    "            return 'no element in the queue'\n",
    "        \n",
    "    def add(self, item):\n",
    "        # add an item to the end of the list\n",
    "        self.data.append(item)\n",
    "        return None\n",
    "        \n",
    "    def is_empty(self):\n",
    "        # return true if and only if the queue is empty\n",
    "        if len(self.data)==0:\n",
    "            return True\n",
    "        else:\n",
    "            return False\n",
    "\n",
    "class AnimalShelter():\n",
    "    def __init__(self, animals=[]):\n",
    "        # all cats and dogs are stored in the list of animals, they are captured by their names and species type in the form\n",
    "        # of (name, species), such as ['Dahuang','dog']. Also, they are stored in the chronological order. animals at front\n",
    "        #　positions come to shelter first.\n",
    "        self.cats = Queue()\n",
    "        self.dogs = Queue()\n",
    "        self.animal_index = 1\n",
    "        if len(animals)>0:\n",
    "            self.add(animals)\n",
    "        \n",
    "    def add(self, animals):\n",
    "        for animal in animals:\n",
    "            if animal[1] == 'dog':\n",
    "                animal.append(self.animal_index)\n",
    "                self.dogs.add(animal)\n",
    "            elif animal[1] == 'cat':\n",
    "                animal.append(self.animal_index)\n",
    "                self.cats.add(animal)\n",
    "            self.animal_index += 1\n",
    "            \n",
    "        return None\n",
    "        \n",
    "    def adopt(self, preference = None):\n",
    "        if preference == 'dog':\n",
    "            self.dogs.pop_out()\n",
    "        elif preference == 'cat':\n",
    "            self.cats.pop_out()\n",
    "        else:\n",
    "            dog_max_arrival_time = self.dogs.peek()[2]\n",
    "            cat_max_arrival_time = self.cats.peek()[2]\n",
    "            if dog_max_arrival_time < cat_max_arrival_time:\n",
    "                self.dogs.pop_out()\n",
    "            else:\n",
    "                self.cats.pop_out()\n",
    "                "
   ]
  },
  {
   "cell_type": "code",
   "execution_count": 187,
   "metadata": {},
   "outputs": [],
   "source": [
    "animals = [['Tom','dog'], ['Mary','cat'], ['Dahuang','dog'], ['Jogn','dog'], ['Tiffiny','cat']]\n",
    "animal_shelter = AnimalShelter(animals)"
   ]
  },
  {
   "cell_type": "code",
   "execution_count": 190,
   "metadata": {},
   "outputs": [
    {
     "name": "stdout",
     "output_type": "stream",
     "text": [
      "['Tiffiny', 'cat', 5]\n"
     ]
    }
   ],
   "source": [
    "animal_shelter.adopt(preference = 'cat')"
   ]
  },
  {
   "cell_type": "code",
   "execution_count": 191,
   "metadata": {},
   "outputs": [
    {
     "data": {
      "text/plain": [
       "[]"
      ]
     },
     "execution_count": 191,
     "metadata": {},
     "output_type": "execute_result"
    }
   ],
   "source": [
    "animal_shelter.cats.data"
   ]
  },
  {
   "cell_type": "code",
   "execution_count": 179,
   "metadata": {},
   "outputs": [
    {
     "data": {
      "text/plain": [
       "False"
      ]
     },
     "execution_count": 179,
     "metadata": {},
     "output_type": "execute_result"
    }
   ],
   "source": [
    "animal_shelter.cats.is_empty()"
   ]
  },
  {
   "cell_type": "code",
   "execution_count": 177,
   "metadata": {},
   "outputs": [
    {
     "name": "stdout",
     "output_type": "stream",
     "text": [
      "nothing to pop out\n"
     ]
    }
   ],
   "source": [
    "animal_shelter.cats.pop_out()"
   ]
  },
  {
   "cell_type": "code",
   "execution_count": 162,
   "metadata": {},
   "outputs": [
    {
     "data": {
      "text/plain": [
       "[['Tom', 'dog', 1], ['Dahuang', 'dog', 3], ['Jogn', 'dog', 4]]"
      ]
     },
     "execution_count": 162,
     "metadata": {},
     "output_type": "execute_result"
    }
   ],
   "source": [
    "animal_shelter.dogs.data"
   ]
  },
  {
   "cell_type": "code",
   "execution_count": 5,
   "metadata": {},
   "outputs": [
    {
     "data": {
      "text/plain": [
       "1"
      ]
     },
     "execution_count": 5,
     "metadata": {},
     "output_type": "execute_result"
    }
   ],
   "source": [
    "a = [1,2,3]\n",
    "a.pop(0)"
   ]
  },
  {
   "cell_type": "code",
   "execution_count": 22,
   "metadata": {},
   "outputs": [
    {
     "name": "stdout",
     "output_type": "stream",
     "text": [
      "None\n"
     ]
    }
   ],
   "source": [
    "print(['Mary','cat'].append(1))"
   ]
  },
  {
   "cell_type": "code",
   "execution_count": 20,
   "metadata": {},
   "outputs": [],
   "source": [
    "a = ['Mary','cat']\n",
    "a.append(1)"
   ]
  },
  {
   "cell_type": "code",
   "execution_count": 31,
   "metadata": {},
   "outputs": [],
   "source": [
    "a = []\n",
    "a.append(1)"
   ]
  },
  {
   "cell_type": "code",
   "execution_count": 32,
   "metadata": {},
   "outputs": [
    {
     "data": {
      "text/plain": [
       "[1]"
      ]
     },
     "execution_count": 32,
     "metadata": {},
     "output_type": "execute_result"
    }
   ],
   "source": [
    "a"
   ]
  },
  {
   "cell_type": "code",
   "execution_count": 37,
   "metadata": {},
   "outputs": [
    {
     "data": {
      "text/plain": [
       "list"
      ]
     },
     "execution_count": 37,
     "metadata": {},
     "output_type": "execute_result"
    }
   ],
   "source": [
    "type([])"
   ]
  },
  {
   "cell_type": "code",
   "execution_count": 93,
   "metadata": {},
   "outputs": [
    {
     "data": {
      "text/plain": [
       "3"
      ]
     },
     "execution_count": 93,
     "metadata": {},
     "output_type": "execute_result"
    }
   ],
   "source": [
    "a = [1,2,3]\n",
    "a.pop()"
   ]
  },
  {
   "cell_type": "code",
   "execution_count": 94,
   "metadata": {},
   "outputs": [
    {
     "data": {
      "text/plain": [
       "[1, 2]"
      ]
     },
     "execution_count": 94,
     "metadata": {},
     "output_type": "execute_result"
    }
   ],
   "source": [
    "a"
   ]
  },
  {
   "cell_type": "code",
   "execution_count": 138,
   "metadata": {},
   "outputs": [],
   "source": [
    "a = Queue()\n",
    "b = Queue()"
   ]
  },
  {
   "cell_type": "code",
   "execution_count": 139,
   "metadata": {},
   "outputs": [],
   "source": [
    "a.add(1)\n",
    "b.add(2)"
   ]
  },
  {
   "cell_type": "code",
   "execution_count": 140,
   "metadata": {},
   "outputs": [
    {
     "data": {
      "text/plain": [
       "[['Tom', 'dog', 1],\n",
       " ['Mary', 'cat', 2],\n",
       " ['Dahuang', 'dog', 3],\n",
       " ['Jogn', 'dog', 4],\n",
       " ['Tiffiny', 'cat', 5],\n",
       " 1,\n",
       " 2]"
      ]
     },
     "execution_count": 140,
     "metadata": {},
     "output_type": "execute_result"
    }
   ],
   "source": [
    "a.data"
   ]
  },
  {
   "cell_type": "code",
   "execution_count": 141,
   "metadata": {},
   "outputs": [
    {
     "data": {
      "text/plain": [
       "[['Tom', 'dog', 1],\n",
       " ['Mary', 'cat', 2],\n",
       " ['Dahuang', 'dog', 3],\n",
       " ['Jogn', 'dog', 4],\n",
       " ['Tiffiny', 'cat', 5],\n",
       " 1,\n",
       " 2]"
      ]
     },
     "execution_count": 141,
     "metadata": {},
     "output_type": "execute_result"
    }
   ],
   "source": [
    "b.data"
   ]
  },
  {
   "cell_type": "code",
   "execution_count": 156,
   "metadata": {},
   "outputs": [],
   "source": [
    "c = Queue()"
   ]
  },
  {
   "cell_type": "code",
   "execution_count": 157,
   "metadata": {},
   "outputs": [
    {
     "data": {
      "text/plain": [
       "[]"
      ]
     },
     "execution_count": 157,
     "metadata": {},
     "output_type": "execute_result"
    }
   ],
   "source": [
    "c.data"
   ]
  },
  {
   "cell_type": "code",
   "execution_count": 152,
   "metadata": {},
   "outputs": [
    {
     "data": {
      "text/plain": [
       "<__main__.Queue at 0x1ebf8ed8c18>"
      ]
     },
     "execution_count": 152,
     "metadata": {},
     "output_type": "execute_result"
    }
   ],
   "source": [
    "b"
   ]
  },
  {
   "cell_type": "code",
   "execution_count": 153,
   "metadata": {},
   "outputs": [
    {
     "data": {
      "text/plain": [
       "<__main__.Queue at 0x1ebf8ee9da0>"
      ]
     },
     "execution_count": 153,
     "metadata": {},
     "output_type": "execute_result"
    }
   ],
   "source": [
    "c"
   ]
  },
  {
   "cell_type": "code",
   "execution_count": null,
   "metadata": {},
   "outputs": [],
   "source": []
  }
 ],
 "metadata": {
  "kernelspec": {
   "display_name": "Python 3",
   "language": "python",
   "name": "python3"
  },
  "language_info": {
   "codemirror_mode": {
    "name": "ipython",
    "version": 3
   },
   "file_extension": ".py",
   "mimetype": "text/x-python",
   "name": "python",
   "nbconvert_exporter": "python",
   "pygments_lexer": "ipython3",
   "version": "3.7.1"
  }
 },
 "nbformat": 4,
 "nbformat_minor": 2
}
