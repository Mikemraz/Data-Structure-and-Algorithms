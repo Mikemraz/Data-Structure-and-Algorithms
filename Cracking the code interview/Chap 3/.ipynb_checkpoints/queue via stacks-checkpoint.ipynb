{
 "cells": [
  {
   "cell_type": "markdown",
   "metadata": {},
   "source": [
    "Queue via Stacks: Implement a MyQueue class which implements a queue using two stacks."
   ]
  },
  {
   "cell_type": "code",
<<<<<<< HEAD
   "execution_count": 2,
   "metadata": {},
   "outputs": [],
   "source": [
    "class Stack:\n",
    "    def __init__(self):\n",
    "        self.data = []\n",
    "        \n",
    "    def pop(self):\n",
    "        # remove the last element in the list\n",
    "        if self.is_empty():\n",
    "            print('nothing to pop out')\n",
    "        else:\n",
    "            popout = self.data.pop(-1)\n",
    "        return popout\n",
    "            \n",
    "    def peek(self):\n",
    "        # return the last element in the list\n",
    "        if self.is_empty()==False:\n",
    "            print('after peeking, the element is found to be {}'.format(self.data[-1]))\n",
    "            return self.data[-1]\n",
    "        else:\n",
    "            return 'no element in the queue'\n",
    "        \n",
    "    def add(self, item):\n",
    "        # add an item to the end of the list\n",
    "        self.data.append(item)\n",
    "        return None\n",
    "        \n",
    "    def is_empty(self):\n",
    "        # return true if and only if the queue is empty\n",
    "        if len(self.data)==0:\n",
    "            return True\n",
    "        else:\n",
    "            return False"
=======
   "execution_count": 1,
   "metadata": {},
   "outputs": [],
   "source": [
    "\"\"\"\n",
    "clues: some methods of List data structrue could be used. Like pop(), insert(), append()\n",
    "\"\"\"\n",
    "class Stack():\n",
    "    \n",
    "    def __init__(self):\n",
    "        self.stack = []\n",
    "    \n",
    "    def push(self,item):\n",
    "        self.stack.append(item)\n",
    "        \n",
    "    def pop(self):\n",
    "        if not self.is_empty():\n",
    "            pop_item = self.stack[-1]\n",
    "            del self.stack[-1]\n",
    "            return pop_item\n",
    "        else:\n",
    "            print(\"no element to pop out!!\")\n",
    "        \n",
    "    def peek(self):\n",
    "        if not self.is_empty():\n",
    "            return self.stack[-1]\n",
    "        \n",
    "    def is_empty(self):\n",
    "        if self.size()==0:\n",
    "            return True\n",
    "        else:\n",
    "            return False\n",
    "    \n",
    "    def size(self):\n",
    "        return len(self.stack)"
>>>>>>> 39a0dd78f38337635f3dc7b43261cf3f7396c828
   ]
  },
  {
   "cell_type": "code",
<<<<<<< HEAD
   "execution_count": 30,
   "metadata": {},
   "outputs": [],
   "source": [
    "class MyQueue:\n",
    "    def __init__(self):\n",
    "        self.popin_stack = Stack()\n",
    "        self.popout_stack = Stack()\n",
    "        \n",
    "    def pop_out(self):\n",
    "        # remove the first element in the list\n",
    "        popout = None\n",
    "        if not self.popout_stack.is_empty():\n",
    "            popout = self.popout_stack.pop()\n",
    "        else:\n",
    "            if not self.popin_stack.is_empty():\n",
    "                while not self.popin_stack.is_empty():\n",
    "                    self.popout_stack.add(self.popin_stack.pop())\n",
    "                popout = self.popout_stack.pop()\n",
    "            else:\n",
    "                print('nothing to pop out')\n",
    "        return popout\n",
    "                \n",
    "            \n",
    "    def peek(self):\n",
    "        # return the first element in the list\n",
    "        if not self.popout_stack.is_empty():\n",
    "            self.popout_stack.peek()\n",
    "        else:\n",
    "            if not self.popin_stack.is_empty():\n",
    "                while not self.popin_stack.is_empty():\n",
    "                    self.popout_stack.add(self.popin_stack.pop())\n",
    "                self.popout_stack.peak()\n",
    "            else:\n",
    "                print('nothing to pop out')        \n",
    "        \n",
    "    def add(self, item):\n",
    "        # add an item to the end of the list\n",
    "        self.popin_stack.add(item)\n",
    "        \n",
    "    def is_empty(self):\n",
    "        # return true if and only if the queue is empty\n",
    "        if self.popin_stack.is_empty() and self.popout_stack.isempty():\n",
    "            return True\n",
    "        else:\n",
    "            return False"
=======
   "execution_count": 12,
   "metadata": {},
   "outputs": [],
   "source": [
    "class Myqueue():\n",
    "    def __init__(self):\n",
    "        self.stackin = Stack()\n",
    "        self.stackout = Stack()\n",
    "    \n",
    "    def enqueue(self, item):\n",
    "        self.stackin.push(item)\n",
    "        \n",
    "    def dequeue(self):\n",
    "        while not self.stackin.is_empty():\n",
    "            internal_pop_item = self.stackin.pop()\n",
    "            self.stackout.push(internal_pop_item)\n",
    "        pop_item = self.stackout.pop()\n",
    "        return pop_item\n",
    "        \n",
    "    def is_empty(self):\n",
    "        if self.stackin.is_empty() and self.stackout.is_empty():\n",
    "            return True\n",
    "        else:\n",
    "            return False\n",
    "        \n",
    "    def size(self):\n",
    "        s = self.stackin.size() + self.stackout.size()\n",
    "        return s"
   ]
  },
  {
   "cell_type": "code",
   "execution_count": 13,
   "metadata": {},
   "outputs": [],
   "source": [
    "queue = Myqueue()"
>>>>>>> 39a0dd78f38337635f3dc7b43261cf3f7396c828
   ]
  },
  {
   "cell_type": "code",
<<<<<<< HEAD
   "execution_count": 31,
   "metadata": {},
   "outputs": [],
   "source": [
    "queue = MyQueue()\n",
    "queue.add(2)\n",
    "queue.add(3)\n",
    "queue.add(4)\n",
    "queue.add(5)\n",
    "queue.add(6)"
=======
   "execution_count": 14,
   "metadata": {},
   "outputs": [],
   "source": [
    "queue.enqueue(1)\n",
    "queue.enqueue(2)\n",
    "queue.enqueue(3)\n",
    "queue.enqueue(4)\n",
    "queue.enqueue(5)\n",
    "queue.enqueue(6)"
>>>>>>> 39a0dd78f38337635f3dc7b43261cf3f7396c828
   ]
  },
  {
   "cell_type": "code",
<<<<<<< HEAD
   "execution_count": 40,
   "metadata": {},
   "outputs": [
    {
     "name": "stdout",
     "output_type": "stream",
     "text": [
      "nothing to pop out\n",
      "None\n"
     ]
    }
   ],
   "source": [
    "print(queue.pop_out())"
=======
   "execution_count": 15,
   "metadata": {},
   "outputs": [
    {
     "data": {
      "text/plain": [
       "1"
      ]
     },
     "execution_count": 15,
     "metadata": {},
     "output_type": "execute_result"
    }
   ],
   "source": [
    "queue.dequeue()"
>>>>>>> 39a0dd78f38337635f3dc7b43261cf3f7396c828
   ]
  },
  {
   "cell_type": "code",
<<<<<<< HEAD
   "execution_count": 33,
   "metadata": {},
   "outputs": [],
   "source": [
    "queue.add(7)\n",
    "queue.add(8)"
=======
   "execution_count": 16,
   "metadata": {},
   "outputs": [
    {
     "data": {
      "text/plain": [
       "2"
      ]
     },
     "execution_count": 16,
     "metadata": {},
     "output_type": "execute_result"
    }
   ],
   "source": [
    "queue.dequeue()"
   ]
  },
  {
   "cell_type": "code",
   "execution_count": 17,
   "metadata": {},
   "outputs": [
    {
     "data": {
      "text/plain": [
       "3"
      ]
     },
     "execution_count": 17,
     "metadata": {},
     "output_type": "execute_result"
    }
   ],
   "source": [
    "queue.dequeue()"
   ]
  },
  {
   "cell_type": "code",
   "execution_count": 18,
   "metadata": {},
   "outputs": [
    {
     "data": {
      "text/plain": [
       "4"
      ]
     },
     "execution_count": 18,
     "metadata": {},
     "output_type": "execute_result"
    }
   ],
   "source": [
    "queue.dequeue()"
   ]
  },
  {
   "cell_type": "code",
   "execution_count": 19,
   "metadata": {},
   "outputs": [
    {
     "data": {
      "text/plain": [
       "5"
      ]
     },
     "execution_count": 19,
     "metadata": {},
     "output_type": "execute_result"
    }
   ],
   "source": [
    "queue.dequeue()"
   ]
  },
  {
   "cell_type": "code",
   "execution_count": 20,
   "metadata": {},
   "outputs": [
    {
     "data": {
      "text/plain": [
       "6"
      ]
     },
     "execution_count": 20,
     "metadata": {},
     "output_type": "execute_result"
    }
   ],
   "source": [
    "queue.dequeue()"
   ]
  },
  {
   "cell_type": "code",
   "execution_count": 21,
   "metadata": {},
   "outputs": [
    {
     "name": "stdout",
     "output_type": "stream",
     "text": [
      "no element to pop out!!\n"
     ]
    }
   ],
   "source": [
    "queue.dequeue()"
>>>>>>> 39a0dd78f38337635f3dc7b43261cf3f7396c828
   ]
  },
  {
   "cell_type": "code",
   "execution_count": null,
   "metadata": {},
   "outputs": [],
   "source": []
  }
 ],
 "metadata": {
  "kernelspec": {
   "display_name": "Python 3",
   "language": "python",
   "name": "python3"
  },
  "language_info": {
   "codemirror_mode": {
    "name": "ipython",
    "version": 3
   },
   "file_extension": ".py",
   "mimetype": "text/x-python",
   "name": "python",
   "nbconvert_exporter": "python",
   "pygments_lexer": "ipython3",
<<<<<<< HEAD
   "version": "3.7.1"
=======
   "version": "3.7.0"
>>>>>>> 39a0dd78f38337635f3dc7b43261cf3f7396c828
  }
 },
 "nbformat": 4,
 "nbformat_minor": 2
}
