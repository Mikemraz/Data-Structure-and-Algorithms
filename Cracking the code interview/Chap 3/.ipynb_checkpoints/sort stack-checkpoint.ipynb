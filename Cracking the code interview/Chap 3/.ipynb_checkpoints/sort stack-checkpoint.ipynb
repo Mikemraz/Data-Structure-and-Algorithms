{
 "cells": [
  {
   "cell_type": "markdown",
   "metadata": {},
   "source": [
    "Sort Stack: Write a program to sort a stack such that the smallest items are on the top. You can use\n",
    "an additional temporary stack, but you may not copy the elements into any other data structure\n",
    "(such as an array). The stack supports the following operations: push, pop, peek, and is Empty.\n",
    "Hints:# 15, #32, #43"
   ]
  }
 ],
 "metadata": {
  "kernelspec": {
   "display_name": "Python 3",
   "language": "python",
   "name": "python3"
  },
  "language_info": {
   "codemirror_mode": {
    "name": "ipython",
    "version": 3
   },
   "file_extension": ".py",
   "mimetype": "text/x-python",
   "name": "python",
   "nbconvert_exporter": "python",
   "pygments_lexer": "ipython3",
   "version": "3.6.5"
  }
 },
 "nbformat": 4,
 "nbformat_minor": 2
}
