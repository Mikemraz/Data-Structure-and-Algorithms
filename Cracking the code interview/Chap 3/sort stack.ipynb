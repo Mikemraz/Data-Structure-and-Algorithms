{
 "cells": [
  {
   "cell_type": "markdown",
   "metadata": {},
   "source": [
    "Sort Stack: Write a program to sort a stack such that the smallest items are on the top. You can use\n",
    "an additional temporary stack, but you may not copy the elements into any other data structure\n",
    "(such as an array). The stack supports the following operations: push, pop, peek, and is Empty.\n",
    "Hints:# 15, #32, #43"
   ]
  },
  {
   "cell_type": "code",
   "execution_count": 10,
   "metadata": {},
   "outputs": [],
   "source": [
    "class Stack:\n",
    "    def __init__(self):\n",
    "        self.data = []\n",
    "        \n",
    "    def pop(self):\n",
    "        # remove the last element in the list\n",
    "        if self.is_empty():\n",
    "            print('nothing to pop out')\n",
    "        else:\n",
    "            popout = self.data.pop(-1)\n",
    "        return popout\n",
    "            \n",
    "    def peek(self):\n",
    "        # return the last element in the list\n",
    "        if self.is_empty()==False:\n",
    "            return self.data[-1]\n",
    "        else:\n",
    "            return 'no element in the queue'\n",
    "        \n",
    "    def add(self, item):\n",
    "        # add an item to the end of the list\n",
    "        self.data.append(item)\n",
    "        return None\n",
    "        \n",
    "    def is_empty(self):\n",
    "        # return true if and only if the queue is empty\n",
    "        if len(self.data)==0:\n",
    "            return True\n",
    "        else:\n",
    "            return False"
   ]
  },
  {
   "cell_type": "code",
   "execution_count": 11,
   "metadata": {},
   "outputs": [],
   "source": [
    "def get_smallest_on_top(stack_cur):\n",
    "    if stack_cur.is_empty():\n",
    "        return 'non element in this stack'\n",
    "    else:\n",
    "        stack_tem = Stack()\n",
    "        num_tem = stack_cur.pop()\n",
    "        while not stack_cur.is_empty():\n",
    "            if num_tem < stack_cur.peek():\n",
    "                stack_tem.add(stack_cur.pop())\n",
    "            else:\n",
    "                stack_tem.add(num_tem)\n",
    "                num_tem = stack_cur.pop()\n",
    "        stack_tem.add(num_tem)\n",
    "        return stack_tem"
   ]
  },
  {
   "cell_type": "code",
   "execution_count": 12,
   "metadata": {},
   "outputs": [],
   "source": [
    "stack = Stack()\n",
    "stack.add(5)\n",
    "stack.add(4)\n",
    "stack.add(1)\n",
    "stack.add(3)\n",
    "stack.add(2)"
   ]
  },
  {
   "cell_type": "code",
   "execution_count": 13,
   "metadata": {},
   "outputs": [
    {
     "data": {
      "text/plain": [
       "2"
      ]
     },
     "execution_count": 13,
     "metadata": {},
     "output_type": "execute_result"
    }
   ],
   "source": [
    "stack.peek()"
   ]
  },
  {
   "cell_type": "code",
   "execution_count": 14,
   "metadata": {},
   "outputs": [
    {
     "data": {
      "text/plain": [
       "1"
      ]
     },
     "execution_count": 14,
     "metadata": {},
     "output_type": "execute_result"
    }
   ],
   "source": [
    "new_stack = get_smallest_on_top(stack)\n",
    "new_stack.peek()"
   ]
  },
  {
   "cell_type": "code",
   "execution_count": null,
   "metadata": {},
   "outputs": [],
   "source": []
  }
 ],
 "metadata": {
  "kernelspec": {
   "display_name": "Python 3",
   "language": "python",
   "name": "python3"
  },
  "language_info": {
   "codemirror_mode": {
    "name": "ipython",
    "version": 3
   },
   "file_extension": ".py",
   "mimetype": "text/x-python",
   "name": "python",
   "nbconvert_exporter": "python",
   "pygments_lexer": "ipython3",
   "version": "3.7.1"
  }
 },
 "nbformat": 4,
 "nbformat_minor": 2
}
