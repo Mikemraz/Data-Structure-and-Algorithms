{
 "cells": [
  {
   "cell_type": "markdown",
   "metadata": {},
   "source": [
    "Stack of Plates: Imagine a (literal) stack of plates. If the stack gets too high, it might topple.\n",
    "Therefore, in real life, we would likely start a new stack when the previous stack exceeds some\n",
    "threshold. Implement a data structure SetOfStacks that mimics this. SetO-fStacks should be\n",
    "composed of several stacks and should create a new stack once the previous one exceeds capacity.\n",
    "SetOfStacks. push() and SetOfStacks. pop() should behave identically to a single stack\n",
    "(that is, pop () should return the same values as it would if there were just a single stack).\n",
    "FOLLOW UP\n",
    "Implement a function popAt ( int index) which performs a pop operation on a specific sub-stack."
   ]
  }
 ],
 "metadata": {
  "kernelspec": {
   "display_name": "Python 3",
   "language": "python",
   "name": "python3"
  },
  "language_info": {
   "codemirror_mode": {
    "name": "ipython",
    "version": 3
   },
   "file_extension": ".py",
   "mimetype": "text/x-python",
   "name": "python",
   "nbconvert_exporter": "python",
   "pygments_lexer": "ipython3",
   "version": "3.7.1"
  }
 },
 "nbformat": 4,
 "nbformat_minor": 2
}
