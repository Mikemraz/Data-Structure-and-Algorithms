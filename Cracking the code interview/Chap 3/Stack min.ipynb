{
 "cells": [
  {
   "cell_type": "markdown",
   "metadata": {},
   "source": [
    "Stack Min: How would you design a stack which, in addition to push and pop, has a function min\n",
    "which returns the minimum element? Push, pop and min should all operate in 0(1) time."
   ]
  },
  {
   "cell_type": "code",
   "execution_count": 1,
   "metadata": {},
   "outputs": [],
   "source": [
    "#solution: use two stacks. one to hold the minimum of nodes that beneath each node but does not have repeated values. \n",
    "#but this one only works for stacks with unique values."
   ]
  },
  {
   "cell_type": "code",
   "execution_count": 3,
   "metadata": {},
   "outputs": [],
   "source": [
    "class Stack:\n",
    "    def __init__(self):\n",
    "        self.data = []\n",
    "        \n",
    "    def pop(self):\n",
    "        # remove the last element in the list\n",
    "        if self.is_empty():\n",
    "            print('nothing to pop out')\n",
    "        else:\n",
    "            popout = self.data.pop(-1)\n",
    "        return popout\n",
    "            \n",
    "    def peek(self):\n",
    "        # return the last element in the list\n",
    "        if self.is_empty()==False:\n",
    "            return self.data[-1]\n",
    "        else:\n",
    "            return 'no element in the queue'\n",
    "        \n",
    "    def add(self, item):\n",
    "        # add an item to the end of the list\n",
    "        self.data.append(item)\n",
    "        return None\n",
    "        \n",
    "    def is_empty(self):\n",
    "        # return true if and only if the queue is empty\n",
    "        if len(self.data)==0:\n",
    "            return True\n",
    "        else:\n",
    "            return False"
   ]
  },
  {
   "cell_type": "code",
   "execution_count": 6,
   "metadata": {},
   "outputs": [],
   "source": [
    "class StackMin(Stack):\n",
    "    def __init__(self):\n",
    "        Stack.__init__(self)\n",
    "        self.mins = Stack()\n",
    "        \n",
    "    def pop(self):\n",
    "        # remove the last element in the list\n",
    "        if self.is_empty():\n",
    "            print('nothing to pop out')\n",
    "        else:\n",
    "            popout = self.data.pop(-1)\n",
    "            minimum = self.mins.peek()\n",
    "            if popout == minimum:\n",
    "                self.mins.pop()\n",
    "        return popout\n",
    "    \n",
    "    def add(self, item):\n",
    "        if self.mins.is_empty():\n",
    "            self.mins.add(item)\n",
    "        else:\n",
    "            if item < self.mins.peek():\n",
    "                self.mins.add(item)\n",
    "        return None\n",
    "        \n",
    "    def get_min(self):\n",
    "        if self.mins.is_empty():\n",
    "            return 'no element'\n",
    "        else:\n",
    "            return self.mins.peek()"
   ]
  },
  {
   "cell_type": "code",
   "execution_count": 9,
   "metadata": {},
   "outputs": [],
   "source": [
    "stack_min = StackMin()\n",
    "stack_min.add(9)\n",
    "stack_min.add(8)\n",
    "stack_min.add(1)\n",
    "stack_min.add(4)\n",
    "stack_min.add(5)\n",
    "stack_min.add(2)\n",
    "stack_min.add(3)"
   ]
  },
  {
   "cell_type": "code",
   "execution_count": 11,
   "metadata": {},
   "outputs": [
    {
     "data": {
      "text/plain": [
       "1"
      ]
     },
     "execution_count": 11,
     "metadata": {},
     "output_type": "execute_result"
    }
   ],
   "source": [
    "stack_min.get_min()"
   ]
  },
  {
   "cell_type": "code",
   "execution_count": null,
   "metadata": {},
   "outputs": [],
   "source": []
  }
 ],
 "metadata": {
  "kernelspec": {
   "display_name": "Python 3",
   "language": "python",
   "name": "python3"
  },
  "language_info": {
   "codemirror_mode": {
    "name": "ipython",
    "version": 3
   },
   "file_extension": ".py",
   "mimetype": "text/x-python",
   "name": "python",
   "nbconvert_exporter": "python",
   "pygments_lexer": "ipython3",
<<<<<<< HEAD
   "version": "3.7.1"
=======
   "version": "3.7.0"
>>>>>>> 39a0dd78f38337635f3dc7b43261cf3f7396c828
  }
 },
 "nbformat": 4,
 "nbformat_minor": 2
}
