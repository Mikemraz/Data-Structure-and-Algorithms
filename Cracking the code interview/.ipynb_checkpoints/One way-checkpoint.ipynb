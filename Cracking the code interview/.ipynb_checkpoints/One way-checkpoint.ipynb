{
 "cells": [
  {
   "cell_type": "markdown",
   "metadata": {},
   "source": [
    "There are three types of edits: delete, insert, replace. Write a function to check if two strings are one edit away."
   ]
  },
  {
   "cell_type": "code",
   "execution_count": 81,
   "metadata": {},
   "outputs": [],
   "source": [
    "# I have done a good job, though a smarter way to think about delete \n",
    "# is that it is actually another way of insert\n",
    "def is_one_away(string,string_fix):\n",
    "    diff = len(string) - len(string_fix)\n",
    "    \n",
    "    if diff == 1:\n",
    "        return is_inserting(string_fix,string)\n",
    "    elif diff == 0:\n",
    "        return is_replacing(string,string_fix)\n",
    "    elif diff == -1:\n",
    "        return is_inserting(string,string_fix)\n",
    "    else:\n",
    "        return False\n",
    "\n",
    "    \n",
    "def is_replacing(string,string_fix):\n",
    "    err = 0\n",
    "    for i in range(len(string)):\n",
    "        if err <= 1:\n",
    "            if string[i] == string_fix[i]:\n",
    "                continue\n",
    "            else:\n",
    "                err += 1\n",
    "        else:\n",
    "            return False\n",
    "    return True\n",
    "            \n",
    "\n",
    "def is_inserting(string,string_fix):\n",
    "    err = 0\n",
    "    i,j = 0,0\n",
    "    while i<len(string) and j<len(string_fix):\n",
    "        if string[i]!=string_fix[j]:\n",
    "            if err:\n",
    "                return False\n",
    "            err += 1\n",
    "            j += 1\n",
    "        else:\n",
    "            i += 1\n",
    "            j += 1\n",
    "    return True\n",
    "            "
   ]
  },
  {
   "cell_type": "code",
   "execution_count": 82,
   "metadata": {},
   "outputs": [
    {
     "data": {
      "text/plain": [
       "False"
      ]
     },
     "execution_count": 82,
     "metadata": {},
     "output_type": "execute_result"
    }
   ],
   "source": [
    "is_one_way('pas','pale')"
   ]
  },
  {
   "cell_type": "code",
   "execution_count": 83,
   "metadata": {},
   "outputs": [],
   "source": [
    "\n",
    "\n",
    "class Test(unittest.TestCase):\n",
    "    '''Test Cases'''\n",
    "    data = [\n",
    "        ('pale', 'ple', True),\n",
    "        ('pales', 'pale', True),\n",
    "        ('pale', 'bale', True),\n",
    "        ('paleabc', 'pleabc', True),\n",
    "        ('pale', 'ble', False),\n",
    "        ('a', 'b', True),\n",
    "        ('', 'd', True),\n",
    "        ('d', 'de', True),\n",
    "        ('pale', 'pale', True),\n",
    "        ('pale', 'ple', True),\n",
    "        ('ple', 'pale', True),\n",
    "        ('pale', 'bale', True),\n",
    "        ('pale', 'bake', False),\n",
    "        ('pale', 'pse', False),\n",
    "        ('ples', 'pales', True),\n",
    "        ('pale', 'pas', False),\n",
    "        ('pas', 'pale', False),\n",
    "        ('pale', 'pkle', True),\n",
    "        ('pkle', 'pable', False),\n",
    "        ('pal', 'palks', False),\n",
    "        ('palks', 'pal', False)\n",
    "    ]\n",
    "\n",
    "    def test_one_away(self):\n",
    "        for [test_s1, test_s2, expected] in self.data:\n",
    "            actual = is_one_away(test_s1, test_s2)\n",
    "            self.assertEqual(actual, expected)"
   ]
  },
  {
   "cell_type": "code",
   "execution_count": 84,
   "metadata": {},
   "outputs": [
    {
     "name": "stderr",
     "output_type": "stream",
     "text": [
      ".\n",
      "----------------------------------------------------------------------\n",
      "Ran 1 test in 0.001s\n",
      "\n",
      "OK\n"
     ]
    },
    {
     "data": {
      "text/plain": [
       "<unittest.main.TestProgram at 0x234cf9e1828>"
      ]
     },
     "execution_count": 84,
     "metadata": {},
     "output_type": "execute_result"
    }
   ],
   "source": [
    "unittest.main(argv=['first-arg-is-ignored'], exit=False)"
   ]
  },
  {
   "cell_type": "code",
   "execution_count": null,
   "metadata": {},
   "outputs": [],
   "source": []
  }
 ],
 "metadata": {
  "kernelspec": {
   "display_name": "Python 3",
   "language": "python",
   "name": "python3"
  },
  "language_info": {
   "codemirror_mode": {
    "name": "ipython",
    "version": 3
   },
   "file_extension": ".py",
   "mimetype": "text/x-python",
   "name": "python",
   "nbconvert_exporter": "python",
   "pygments_lexer": "ipython3",
   "version": "3.6.5"
  }
 },
 "nbformat": 4,
 "nbformat_minor": 2
}
