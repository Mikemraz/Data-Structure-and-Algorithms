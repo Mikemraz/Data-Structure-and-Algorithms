{
 "cells": [
  {
   "cell_type": "markdown",
   "metadata": {},
   "source": [
    "Given a string, write a function to check if it is a permutation of a palindrome. A palindrome is a word or phrase that is the same forwards and backwards. A permutation is a rearrangement of letters. "
   ]
  },
  {
   "cell_type": "code",
   "execution_count": 69,
   "metadata": {},
   "outputs": [],
   "source": [
    "# runtime analysis: O(n)\n",
    "# another way to implement this is to use list and use unicode code point as index.\n",
    "def is_permutation_of_palindrome(string):\n",
    "    string = string.replace(\" \",\"\")\n",
    "    string = string.lower()\n",
    "    res = len(string)%2\n",
    "    count_dict = {}\n",
    "    for char in string:\n",
    "        if char in count_dict:\n",
    "            count_dict[char] += 1\n",
    "        else:\n",
    "            count_dict[char] = 1\n",
    "    \n",
    "    if res==0:\n",
    "        for key,val in count_dict.items():\n",
    "            if val%2 != 0:\n",
    "                return False\n",
    "        return True\n",
    "    else:\n",
    "        odd_count = 0\n",
    "        for key,val in count_dict.items():\n",
    "            if val%2 != 0:\n",
    "                odd_count += 1\n",
    "        if odd_count > 1:\n",
    "            return False\n",
    "        else:\n",
    "            return True"
   ]
  },
  {
   "cell_type": "code",
   "execution_count": 70,
   "metadata": {},
   "outputs": [],
   "source": [
    "import unittest\n",
    "\n",
    "class Test(unittest.TestCase):\n",
    "    '''Test Cases'''\n",
    "    data = [\n",
    "        ('Tact Coa', True),\n",
    "        ('jhsabckuj ahjsbckj', True),\n",
    "        ('Able was I ere I saw Elba', True),\n",
    "        ('So patient a nurse to nurse a patient so', False),\n",
    "        ('Random Words', False),\n",
    "        ('Not a Palindrome', False),\n",
    "        ('no x in nixon', True),\n",
    "        ('azAZ', True)\n",
    "    ]\n",
    "\n",
    "    def test_is_permutation_of_palindrome(self):\n",
    "        for [test_string, expected] in self.data:\n",
    "            actual = is_permutation_of_palindrome(test_string)\n",
    "            self.assertEqual(actual, expected)"
   ]
  },
  {
   "cell_type": "code",
   "execution_count": 71,
   "metadata": {},
   "outputs": [
    {
     "name": "stderr",
     "output_type": "stream",
     "text": [
      ".\n",
      "----------------------------------------------------------------------\n",
      "Ran 1 test in 0.000s\n",
      "\n",
      "OK\n"
     ]
    },
    {
     "data": {
      "text/plain": [
       "<unittest.main.TestProgram at 0x1fc0002b5c0>"
      ]
     },
     "execution_count": 71,
     "metadata": {},
     "output_type": "execute_result"
    }
   ],
   "source": [
    "unittest.main(argv=['first-arg-is-ignored'], exit=False)"
   ]
  },
  {
   "cell_type": "code",
   "execution_count": 36,
   "metadata": {},
   "outputs": [],
   "source": [
    "from itertools import permutations"
   ]
  },
  {
   "cell_type": "code",
   "execution_count": 51,
   "metadata": {},
   "outputs": [],
   "source": [
    "# let us go one step forward, print all possible palindromes!\n",
    "def output_palindrome(string):\n",
    "    if not is_permutation_of_palindrome(string):\n",
    "        return 'It is not possible to form Palindrome by this string'\n",
    "\n",
    "    string = string.replace(\" \",\"\")\n",
    "    res = len(string)%2\n",
    "    count_dict = {}\n",
    "    for char in string:\n",
    "        if char in count_dict:\n",
    "            count_dict[char] += 1\n",
    "        else:\n",
    "            count_dict[char] = 1\n",
    "    \n",
    "    if res%2==0:\n",
    "        chars = ''\n",
    "        for key,count in count_dict.items():\n",
    "            rep = count//2\n",
    "            chars += key*rep\n",
    "        all_palindromes = list(permutations(chars))\n",
    "        all_palindromes = [''.join(first_half)+''.join(first_half[::-1]) for first_half in all_palindromes]\n",
    "    else:\n",
    "        chars = ''\n",
    "        for key,count in count_dict.items():\n",
    "            if count%2 == 1:\n",
    "                odd = key\n",
    "            else:\n",
    "                rep = count//2\n",
    "                chars += key*rep\n",
    "        all_palindromes = list(permutations(chars))\n",
    "        all_palindromes = [''.join(first_half)+ odd + ''.join(first_half[::-1]) for first_half in all_palindromes]\n",
    "    \n",
    "    return all_palindromes\n",
    "\n",
    "            \n",
    "            \n",
    "        \n",
    "        "
   ]
  },
  {
   "cell_type": "code",
   "execution_count": 55,
   "metadata": {},
   "outputs": [
    {
     "name": "stdout",
     "output_type": "stream",
     "text": [
      "0\n"
     ]
    },
    {
     "data": {
      "text/plain": [
       "['tiejjeit',\n",
       " 'tijeejit',\n",
       " 'teijjiet',\n",
       " 'tejiijet',\n",
       " 'tjieeijt',\n",
       " 'tjeiiejt',\n",
       " 'itejjeti',\n",
       " 'itjeejti',\n",
       " 'ietjjtei',\n",
       " 'iejttjei',\n",
       " 'ijteetji',\n",
       " 'ijetteji',\n",
       " 'etijjite',\n",
       " 'etjiijte',\n",
       " 'eitjjtie',\n",
       " 'eijttjie',\n",
       " 'ejtiitje',\n",
       " 'ejittije',\n",
       " 'jtieeitj',\n",
       " 'jteiietj',\n",
       " 'jiteetij',\n",
       " 'jietteij',\n",
       " 'jetiitej',\n",
       " 'jeittiej']"
      ]
     },
     "execution_count": 55,
     "metadata": {},
     "output_type": "execute_result"
    }
   ],
   "source": [
    "output_palindrome('tiejjtie')"
   ]
  },
  {
   "cell_type": "code",
   "execution_count": null,
   "metadata": {},
   "outputs": [],
   "source": []
  }
 ],
 "metadata": {
  "kernelspec": {
   "display_name": "Python 3",
   "language": "python",
   "name": "python3"
  },
  "language_info": {
   "codemirror_mode": {
    "name": "ipython",
    "version": 3
   },
   "file_extension": ".py",
   "mimetype": "text/x-python",
   "name": "python",
   "nbconvert_exporter": "python",
   "pygments_lexer": "ipython3",
   "version": "3.6.5"
  }
 },
 "nbformat": 4,
 "nbformat_minor": 2
}
