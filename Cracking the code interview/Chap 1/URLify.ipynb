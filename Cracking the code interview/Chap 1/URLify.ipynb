{
 "cells": [
  {
   "cell_type": "markdown",
   "metadata": {},
   "source": [
    "Write a method to replace all spaces in a string with \"%20\". you may assume that the string has sufficient space at the end to hold the additional characters, and that you are given the \"true\" length of the string."
   ]
  },
  {
   "cell_type": "code",
   "execution_count": 4,
   "metadata": {},
   "outputs": [],
   "source": [
    "def urlify(string, s):\n",
    "    output = \"\"\n",
    "    is_space = 0\n",
    "    for char in string:\n",
    "        if char == \" \":\n",
    "            is_space = 1\n",
    "        elif char != \" \" and is_space==1:\n",
    "            output += \"20%\"\n",
    "            output += char\n",
    "            is_space = 0\n",
    "        else:\n",
    "            output += char\n",
    "    return output"
   ]
  },
  {
   "cell_type": "code",
   "execution_count": 16,
   "metadata": {},
   "outputs": [
    {
     "data": {
      "text/plain": [
       "'much20%ado20%about20%nothing'"
      ]
     },
     "execution_count": 16,
     "metadata": {},
     "output_type": "execute_result"
    }
   ],
   "source": [
    "urlify('much ado about nothing      ', 6)"
   ]
  }
 ],
 "metadata": {
  "kernelspec": {
   "display_name": "Python 3",
   "language": "python",
   "name": "python3"
  },
  "language_info": {
   "codemirror_mode": {
    "name": "ipython",
    "version": 3
   },
   "file_extension": ".py",
   "mimetype": "text/x-python",
   "name": "python",
   "nbconvert_exporter": "python",
   "pygments_lexer": "ipython3",
   "version": "3.6.5"
  }
 },
 "nbformat": 4,
 "nbformat_minor": 2
}
