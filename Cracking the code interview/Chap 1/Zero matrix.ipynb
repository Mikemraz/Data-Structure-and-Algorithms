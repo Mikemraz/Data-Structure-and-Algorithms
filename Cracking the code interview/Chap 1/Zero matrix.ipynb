{
 "cells": [
  {
   "cell_type": "markdown",
   "metadata": {},
   "source": [
    "Write an algorithm such that if an element in an M*N matrix is 0, its entire row and column are set to 0."
   ]
  },
  {
   "cell_type": "markdown",
   "metadata": {},
   "source": [
    "It is not hard to come up with a brute force solution which has runtime O(n**2)."
   ]
  },
  {
   "cell_type": "code",
   "execution_count": 27,
   "metadata": {},
   "outputs": [],
   "source": [
    "import unittest"
   ]
  },
  {
   "cell_type": "code",
   "execution_count": 20,
   "metadata": {},
   "outputs": [],
   "source": [
    "def zero_matrix(matrix):\n",
    "    m = len(matrix)\n",
    "    n = len(matrix[0])\n",
    "    zero_m = set()\n",
    "    zero_n = set()\n",
    "    for i in range(m):\n",
    "        for j in range(n):\n",
    "            if matrix[i][j]==0:\n",
    "                zero_m.add(i)\n",
    "                zero_n.add(j)\n",
    "                \n",
    "    for i in zero_m:\n",
    "        matrix[i] = [0]*n\n",
    "    for i in set(list(range(m)))-zero_m:\n",
    "        for j in zero_n:\n",
    "            matrix[i][j] = 0\n",
    "    return matrix\n",
    "        "
   ]
  },
  {
   "cell_type": "code",
   "execution_count": 25,
   "metadata": {},
   "outputs": [],
   "source": [
    "a = [\n",
    "    [1,2,3,1],\n",
    "    [1,0,0,2],\n",
    "    [4,23,1,3],\n",
    "    [1,1,1,1]\n",
    "]"
   ]
  },
  {
   "cell_type": "code",
   "execution_count": 26,
   "metadata": {},
   "outputs": [
    {
     "data": {
      "text/plain": [
       "[[1, 0, 0, 1], [0, 0, 0, 0], [4, 0, 0, 3], [1, 0, 0, 1]]"
      ]
     },
     "execution_count": 26,
     "metadata": {},
     "output_type": "execute_result"
    }
   ],
   "source": [
    "zero_matrix(a)"
   ]
  },
  {
   "cell_type": "code",
   "execution_count": 30,
   "metadata": {},
   "outputs": [],
   "source": [
    "class Test(unittest.TestCase):\n",
    "    '''Test Cases'''\n",
    "    data = [\n",
    "        ([\n",
    "            [1, 2, 3, 4, 0],\n",
    "            [6, 0, 8, 9, 10],\n",
    "            [11, 12, 13, 14, 15],\n",
    "            [16, 0, 18, 19, 20],\n",
    "            [21, 22, 23, 24, 25]\n",
    "        ], [\n",
    "            [0, 0, 0, 0, 0],\n",
    "            [0, 0, 0, 0, 0],\n",
    "            [11, 0, 13, 14, 0],\n",
    "            [0, 0, 0, 0, 0],\n",
    "            [21, 0, 23, 24, 0]\n",
    "        ])\n",
    "    ]\n",
    "\n",
    "    def test_zero_matrix(self):\n",
    "        for [test_matrix, expected] in self.data:\n",
    "            actual = zero_matrix(test_matrix)\n",
    "            self.assertEqual(actual, expected)\n"
   ]
  },
  {
   "cell_type": "code",
   "execution_count": 31,
   "metadata": {},
   "outputs": [
    {
     "name": "stderr",
     "output_type": "stream",
     "text": [
      ".\n",
      "----------------------------------------------------------------------\n",
      "Ran 1 test in 0.001s\n",
      "\n",
      "OK\n"
     ]
    },
    {
     "data": {
      "text/plain": [
       "<unittest.main.TestProgram at 0x215ccf2a668>"
      ]
     },
     "execution_count": 31,
     "metadata": {},
     "output_type": "execute_result"
    }
   ],
   "source": [
    "unittest.main(argv=['first-arg-is-ignored'], exit=False)"
   ]
  },
  {
   "cell_type": "code",
   "execution_count": null,
   "metadata": {},
   "outputs": [],
   "source": []
  }
 ],
 "metadata": {
  "kernelspec": {
   "display_name": "Python 3",
   "language": "python",
   "name": "python3"
  },
  "language_info": {
   "codemirror_mode": {
    "name": "ipython",
    "version": 3
   },
   "file_extension": ".py",
   "mimetype": "text/x-python",
   "name": "python",
   "nbconvert_exporter": "python",
   "pygments_lexer": "ipython3",
   "version": "3.6.5"
  }
 },
 "nbformat": 4,
 "nbformat_minor": 2
}
