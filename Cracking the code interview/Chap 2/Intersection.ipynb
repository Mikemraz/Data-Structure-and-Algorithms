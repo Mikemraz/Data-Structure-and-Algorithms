{
 "cells": [
  {
   "cell_type": "markdown",
   "metadata": {},
   "source": [
    "Given two (singly) linked lists, determine if the two lists intersect. Return the intersecting node. Note that the intersection is defined based on reference, not value. That is, if the kth node of the first linked list is the exact same node (by reference) as the jth node of the second linked list, then they are intersecting."
   ]
  },
  {
   "cell_type": "markdown",
   "metadata": {},
   "source": [
    "it is not hard to come up with a o(n**2) solution.  \n",
    "can reference be represented as numerical number? if so, some sorted algorithms could be utilized to decrease the runtime to o(nlogn)"
   ]
  },
  {
   "cell_type": "code",
   "execution_count": 15,
   "metadata": {},
   "outputs": [],
   "source": [
    "import ctypes"
   ]
  },
  {
   "cell_type": "code",
   "execution_count": 25,
   "metadata": {},
   "outputs": [],
   "source": [
    "class Node():\n",
    "    def __init__(self,val=None):\n",
    "        self.val = val\n",
    "        self.next = None"
   ]
  },
  {
   "cell_type": "code",
   "execution_count": 33,
   "metadata": {},
   "outputs": [],
   "source": [
    "def get_list(head):\n",
    "    output = []\n",
    "    node = head\n",
    "    while node!=None:\n",
    "        output.append(id(node))\n",
    "        node = node.next\n",
    "    return output\n",
    "\n",
    "def find_common_node(list_1,list_2):\n",
    "    \"\"\"\n",
    "    inputs:\n",
    "        list_1, sorted list contains memory address of nodes\n",
    "        list_2, sorted list contains memory address of nodes\n",
    "    returns:\n",
    "        output, list contains memory address of shared nodes\n",
    "    \"\"\"\n",
    "    i,j = 0,0\n",
    "    common = []\n",
    "    while i<len(list_1) and j<len(list_2):\n",
    "        if list_1[i] == list_2[j]:\n",
    "            common.append(list_1[i])\n",
    "            i += 1\n",
    "            j += 1\n",
    "        elif list_1[i] <= list_2[j]:\n",
    "            i += 1\n",
    "        else:\n",
    "            j += 1\n",
    "    return common\n",
    "\n",
    "def return_intersects(head_1,head_2):\n",
    "    list_1 = get_list(head_1)\n",
    "    list_2 = get_list(head_2)\n",
    "    list_1 = sorted(list_1)\n",
    "    list_2 = sorted(list_2)\n",
    "    common_nodes = find_common_node(list_1,list_2)\n",
    "    intersects = [ctypes.cast(node, ctypes.py_object).value for node in common_nodes]\n",
    "    return intersects"
   ]
  },
  {
   "cell_type": "code",
   "execution_count": 54,
   "metadata": {},
   "outputs": [],
   "source": [
    "a = Node(1)\n",
    "b = Node(2)\n",
    "c = Node(3)\n",
    "d = Node(4)\n",
    "e = Node(5)\n",
    "f = Node(6)\n",
    "g = Node(7)\n",
    "head_1 = a\n",
    "head_1.next = b\n",
    "head_1.next.next = c\n",
    "head_1.next.next.next = d\n",
    "head_2 = e\n",
    "head_2.next = c\n",
    "head_2.next.next = d"
   ]
  },
  {
   "cell_type": "code",
   "execution_count": 56,
   "metadata": {},
   "outputs": [
    {
     "data": {
      "text/plain": [
       "[4, 3]"
      ]
     },
     "execution_count": 56,
     "metadata": {},
     "output_type": "execute_result"
    }
   ],
   "source": [
    "nodes = return_intersects(head_1,head_2)\n",
    "[node.val for node in nodes]"
   ]
  }
 ],
 "metadata": {
  "kernelspec": {
   "display_name": "Python 3",
   "language": "python",
   "name": "python3"
  },
  "language_info": {
   "codemirror_mode": {
    "name": "ipython",
    "version": 3
   },
   "file_extension": ".py",
   "mimetype": "text/x-python",
   "name": "python",
   "nbconvert_exporter": "python",
   "pygments_lexer": "ipython3",
   "version": "3.6.5"
  }
 },
 "nbformat": 4,
 "nbformat_minor": 2
}
