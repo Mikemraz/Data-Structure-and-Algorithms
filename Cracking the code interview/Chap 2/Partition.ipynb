{
 "cells": [
  {
   "cell_type": "markdown",
   "metadata": {},
   "source": [
    "write code to partition a linked list around a value x, such that all nodes less than x come before all nodes greater than or equal to x. if x is contained within the list, the values of x only need to be after the elements less than x."
   ]
  },
  {
   "cell_type": "code",
   "execution_count": 1,
   "metadata": {},
   "outputs": [],
   "source": [
    "class Node():\n",
    "    def __init__(self,value):\n",
    "        self.data = value\n",
    "        self.next = None\n",
    "        \n",
    "    def set_next_node(self, node):\n",
    "        self.next = node"
   ]
  },
  {
   "cell_type": "code",
   "execution_count": 21,
   "metadata": {},
   "outputs": [],
   "source": [
    "class Linkedlist():\n",
    "    def __init__(self,head):\n",
    "        self.head = head\n",
    "        \n",
    "    def print_all(self):\n",
    "        output = []\n",
    "        current_node = self.head.next\n",
    "        while current_node != None:\n",
    "            output.append(current_node.data)\n",
    "            current_node = current_node.next\n",
    "        return output\n",
    "    \n",
    "    def partition(self,x):\n",
    "        previous = self.head\n",
    "        current_node = self.head.next\n",
    "        while current_node != None:\n",
    "            if current_node.data < x:\n",
    "                # catch this node and remember the next node\n",
    "                catched = current_node\n",
    "                next_node = current_node.next\n",
    "                # the previous node points to the next node\n",
    "                previous.next = current_node.next\n",
    "                current_node = current_node.next\n",
    "                # move the catched node to the front\n",
    "                catched.next = self.head.next\n",
    "                self.head.next = catched\n",
    "            else:\n",
    "                previous = current_node\n",
    "                current_node = current_node.next"
   ]
  },
  {
   "cell_type": "code",
   "execution_count": 22,
   "metadata": {},
   "outputs": [],
   "source": [
    "head = Node(None)\n",
    "ll = Linkedlist(head)"
   ]
  },
  {
   "cell_type": "code",
   "execution_count": 23,
   "metadata": {},
   "outputs": [],
   "source": [
    "a = [1,2,3,45,3,2,5,3,2,4,22,1]"
   ]
  },
  {
   "cell_type": "code",
   "execution_count": 24,
   "metadata": {},
   "outputs": [],
   "source": [
    "current_node = ll.head\n",
    "for item in a:\n",
    "    node = Node(item)\n",
    "    current_node.next = node\n",
    "    current_node = node"
   ]
  },
  {
   "cell_type": "code",
   "execution_count": 25,
   "metadata": {},
   "outputs": [
    {
     "data": {
      "text/plain": [
       "[1, 2, 3, 45, 3, 2, 5, 3, 2, 4, 22, 1]"
      ]
     },
     "execution_count": 25,
     "metadata": {},
     "output_type": "execute_result"
    }
   ],
   "source": [
    "ll.print_all()"
   ]
  },
  {
   "cell_type": "code",
   "execution_count": 26,
   "metadata": {},
   "outputs": [],
   "source": [
    "ll.partition(3)"
   ]
  },
  {
   "cell_type": "code",
   "execution_count": 27,
   "metadata": {},
   "outputs": [
    {
     "data": {
      "text/plain": [
       "[1, 2, 2, 2, 3, 45, 3, 5, 3, 4, 22]"
      ]
     },
     "execution_count": 27,
     "metadata": {},
     "output_type": "execute_result"
    }
   ],
   "source": [
    "ll.print_all()"
   ]
  },
  {
   "cell_type": "code",
   "execution_count": 28,
   "metadata": {},
   "outputs": [],
   "source": [
    "# good job!"
   ]
  },
  {
   "cell_type": "code",
   "execution_count": null,
   "metadata": {},
   "outputs": [],
   "source": []
  }
 ],
 "metadata": {
  "kernelspec": {
   "display_name": "Python 3",
   "language": "python",
   "name": "python3"
  },
  "language_info": {
   "codemirror_mode": {
    "name": "ipython",
    "version": 3
   },
   "file_extension": ".py",
   "mimetype": "text/x-python",
   "name": "python",
   "nbconvert_exporter": "python",
   "pygments_lexer": "ipython3",
   "version": "3.6.5"
  }
 },
 "nbformat": 4,
 "nbformat_minor": 2
}
