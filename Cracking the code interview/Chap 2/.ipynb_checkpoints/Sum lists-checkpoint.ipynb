{
 "cells": [
  {
   "cell_type": "markdown",
   "metadata": {},
   "source": [
    "You have two numbers represented by a linked list, where each node contains a single digit. The digits are stored in reverse order. such that the 1's digit is at the head of the list. Write a function that adds the two numbers and returns the sum as a linked list."
   ]
  },
  {
   "cell_type": "code",
   "execution_count": 5,
   "metadata": {},
   "outputs": [],
   "source": [
    "import unittest"
   ]
  },
  {
   "cell_type": "code",
   "execution_count": 29,
   "metadata": {},
   "outputs": [],
   "source": [
    "class Node():\n",
    "    def __init__(self,val):\n",
    "        self.val = val\n",
    "        self.next = None\n",
    "        \n",
    "def get_number(node):\n",
    "    base = 1\n",
    "    number = 0\n",
    "    while node != None:\n",
    "        number += node.val * base\n",
    "        base *= 10\n",
    "        node = node.next\n",
    "    return number"
   ]
  },
  {
   "cell_type": "code",
   "execution_count": 41,
   "metadata": {},
   "outputs": [],
   "source": [
    "def get_node_val(node):\n",
    "    if node==None:\n",
    "        return 0\n",
    "    else:\n",
    "        return node.val\n",
    "\n",
    "def get_next_node(node):\n",
    "    if node!=None:\n",
    "        return node.next\n",
    "    else:\n",
    "        return None\n",
    "\n",
    "def sum_list(node_1,node_2):\n",
    "    digit_sum = 0\n",
    "    digit_sum = get_node_val(node_1) + get_node_val(node_2)\n",
    "    carry,r = divmod(digit_sum,10)\n",
    "    output_node = Node(r)\n",
    "    current_node = output_node\n",
    "    next_node = None\n",
    "    node_1 = get_next_node(node_1)\n",
    "    node_2 = get_next_node(node_2)\n",
    "    \n",
    "    while node_1!=None or node_2!=None or carry!=0:\n",
    "        digit_sum = get_node_val(node_1) + get_node_val(node_2)\n",
    "        carry,r = divmod(digit_sum+carry,10)\n",
    "        next_node = Node(r)\n",
    "        current_node.next = next_node\n",
    "        current_node = next_node\n",
    "        node_1 = get_next_node(node_1)\n",
    "        node_2 = get_next_node(node_2)\n",
    "    return output_node"
   ]
  },
  {
   "cell_type": "code",
   "execution_count": 50,
   "metadata": {},
   "outputs": [],
   "source": [
    "class TestSumLists(unittest.TestCase):\n",
    "\n",
    "    def test_simple_one_digit_sum(self):\n",
    "        self.assertEqual(0, get_number(sum_list(Node(0),Node(0))))\n",
    "        self.assertEqual(3, get_number(sum_list(Node(1),Node(2))))\n",
    "        self.assertEqual(5, get_number(sum_list(Node(2),Node(3))))\n",
    "        self.assertEqual(9, get_number(sum_list(Node(1),Node(8))))\n",
    "        self.assertEqual(8, get_number(sum_list(Node(4),Node(4))))\n",
    "\n",
    "    def test_simple_multiple_digit_sum(self):\n",
    "        ll_head_1 = Node(1)\n",
    "        ll_head_1.next = Node(2)\n",
    "        ll_head_2 = Node(1)\n",
    "        ll_head_2.next = Node(2)\n",
    "        self.assertEqual(21+21, get_number(sum_list(ll_head_1,ll_head_2)))\n",
    "        ll_head_1 = Node(5)\n",
    "        ll_head_1.next = Node(3)\n",
    "        ll_head_2 = Node(2)\n",
    "        ll_head_2.next = Node(4)\n",
    "        self.assertEqual(35+42, get_number(sum_list(ll_head_1,ll_head_2)))\n",
    "        ll_head_1 = Node(1)\n",
    "        ll_head_1.next = Node(1)\n",
    "        ll_head_1.next.next = Node(1)\n",
    "        ll_head_1.next.next.next = Node(1)\n",
    "        ll_head_1.next.next.next.next = Node(1)\n",
    "        ll_head_2 = Node(2)\n",
    "        ll_head_2.next = Node(2)\n",
    "        self.assertEqual(11111+22, get_number(sum_list(ll_head_1,ll_head_2)))\n",
    "        \n",
    "    def test_complex_one_digit_sum(self):\n",
    "        self.assertEqual(9+9, get_number(sum_list(Node(9),Node(9))))\n",
    "        self.assertEqual(10, get_number(sum_list(Node(5),Node(5))))\n",
    "        self.assertEqual(6+8, get_number(sum_list(Node(6),Node(8))))\n",
    "        self.assertEqual(9+4, get_number(sum_list(Node(9),Node(4))))\n",
    "        \n",
    "    def test_complex_multiple_digit_sum(self):\n",
    "        ll_head_1 = Node(8)\n",
    "        ll_head_1.next = Node(1)\n",
    "        ll_head_2 = Node(2)\n",
    "        ll_head_2.next = Node(2)\n",
    "        self.assertEqual(18+22, get_number(sum_list(ll_head_1,ll_head_2)))\n",
    "        ll_head_1 = Node(9)\n",
    "        ll_head_1.next = Node(3)\n",
    "        ll_head_2 = Node(2)\n",
    "        ll_head_2.next = Node(9)\n",
    "        self.assertEqual(39+92, get_number(sum_list(ll_head_1,ll_head_2)))\n",
    "        ll_head_1 = Node(9)\n",
    "        ll_head_1.next = Node(9)\n",
    "        ll_head_1.next.next = Node(9)\n",
    "        ll_head_1.next.next.next = Node(9)\n",
    "        ll_head_1.next.next.next.next = Node(9)\n",
    "        ll_head_2 = Node(2)\n",
    "        ll_head_2.next = Node(2)\n",
    "        self.assertEqual(99999+22, get_number(sum_list(ll_head_1,ll_head_2)))"
   ]
  },
  {
   "cell_type": "code",
   "execution_count": 51,
   "metadata": {},
   "outputs": [
    {
     "name": "stderr",
     "output_type": "stream",
     "text": [
      "....\n",
      "----------------------------------------------------------------------\n",
      "Ran 4 tests in 0.003s\n",
      "\n",
      "OK\n"
     ]
    }
   ],
   "source": [
    "if __name__ == \"__main__\":\n",
    "    unittest.main(argv=['first-arg-is-ignored'],exit=False)"
   ]
  },
  {
   "cell_type": "code",
   "execution_count": null,
   "metadata": {},
   "outputs": [],
   "source": [
    "\n",
    "\n",
    "    def test_isupper(self):\n",
    "        self.assertTrue('FOO'.isupper())\n",
    "        self.assertFalse('Foo'.isupper())\n",
    "\n",
    "    def test_split(self):\n",
    "        s = 'hello world'\n",
    "        self.assertEqual(s.split(), ['hello', 'world'])\n",
    "        # check that s.split fails when the separator is not a string\n",
    "        with self.assertRaises(TypeError):\n",
    "            s.split(2)"
   ]
  }
 ],
 "metadata": {
  "kernelspec": {
   "display_name": "Python 3",
   "language": "python",
   "name": "python3"
  },
  "language_info": {
   "codemirror_mode": {
    "name": "ipython",
    "version": 3
   },
   "file_extension": ".py",
   "mimetype": "text/x-python",
   "name": "python",
   "nbconvert_exporter": "python",
   "pygments_lexer": "ipython3",
   "version": "3.6.5"
  }
 },
 "nbformat": 4,
 "nbformat_minor": 2
}
