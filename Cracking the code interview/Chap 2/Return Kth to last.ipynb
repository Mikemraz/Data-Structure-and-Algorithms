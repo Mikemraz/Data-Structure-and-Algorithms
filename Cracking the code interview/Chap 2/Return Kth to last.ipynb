{
 "cells": [
  {
   "cell_type": "markdown",
   "metadata": {},
   "source": [
    "Implement an algorithm to find the kth to last element of a singly linked list."
   ]
  },
  {
   "cell_type": "markdown",
   "metadata": {},
   "source": [
    "Thought: remember the index of the element as you loop through the linked list."
   ]
  },
  {
   "cell_type": "code",
   "execution_count": null,
   "metadata": {},
   "outputs": [],
   "source": [
    "#O(n)\n",
    "class Node():\n",
    "    def __init__(self, value):\n",
    "        self.data = value\n",
    "        self.next = None\n",
    "        \n",
    "    def set_next_node(self, node):\n",
    "        self.next = node\n",
    "        \n",
    "        \n",
    "def find_reverse_kth(k,head):\n",
    "    node = head\n",
    "    counter = 0\n",
    "    while node!=None:\n",
    "        node = node.next\n",
    "        counter += 1\n",
    "        \n",
    "    index = counter - k \n",
    "    node = head\n",
    "    new_counter = 0\n",
    "    while new_counter<index:\n",
    "        node = node.next\n",
    "        new_counter += 1\n",
    "    return node"
   ]
  }
 ],
 "metadata": {
  "kernelspec": {
   "display_name": "Python 3",
   "language": "python",
   "name": "python3"
  },
  "language_info": {
   "codemirror_mode": {
    "name": "ipython",
    "version": 3
   },
   "file_extension": ".py",
   "mimetype": "text/x-python",
   "name": "python",
   "nbconvert_exporter": "python",
   "pygments_lexer": "ipython3",
   "version": "3.6.5"
  }
 },
 "nbformat": 4,
 "nbformat_minor": 2
}
