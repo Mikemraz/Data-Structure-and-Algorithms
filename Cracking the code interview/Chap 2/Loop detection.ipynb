{
 "cells": [
  {
   "cell_type": "markdown",
   "metadata": {},
   "source": [
    "Given a circular linked list, implement an algorithm that returns the node at the beginning of the loop.  \n",
    "\n",
    "Example:  \n",
    "input: A -> B -> C -> D -> E -> C\n",
    "output: C"
   ]
  }
 ],
 "metadata": {
  "kernelspec": {
   "display_name": "Python 3",
   "language": "python",
   "name": "python3"
  },
  "language_info": {
   "codemirror_mode": {
    "name": "ipython",
    "version": 3
   },
   "file_extension": ".py",
   "mimetype": "text/x-python",
   "name": "python",
   "nbconvert_exporter": "python",
   "pygments_lexer": "ipython3",
   "version": "3.6.5"
  }
 },
 "nbformat": 4,
 "nbformat_minor": 2
}
